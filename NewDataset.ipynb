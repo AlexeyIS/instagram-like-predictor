{
 "cells": [
  {
   "cell_type": "code",
   "execution_count": 3,
   "metadata": {
    "collapsed": false
   },
   "outputs": [],
   "source": [
    "import numpy as np\n",
    "import matplotlib.pyplot as plt\n",
    "import pandas as pd\n",
    "import seaborn as sns\n",
    "import scipy as sp\n",
    "\n",
    "import xgboost as xgb\n",
    "\n",
    "from scipy import sparse\n",
    "from IPython.display import Image\n",
    "import seaborn as sns\n",
    "\n",
    "from mpl_toolkits.mplot3d import Axes3D\n",
    "\n",
    "sns.set(style=\"ticks\", color_codes=True)\n",
    "%matplotlib inline\n",
    "\n",
    "import os\n",
    "import json\n",
    "\n",
    "from sklearn.cross_validation import train_test_split\n",
    "from sklearn.metrics import mean_squared_error\n",
    "\n",
    "from hyperopt import hp\n",
    "from hyperopt import fmin, tpe, hp, STATUS_OK, Trials\n",
    "\n",
    "from datetime import datetime\n",
    "import dateutil\n",
    "\n",
    "from sklearn import preprocessing\n",
    "from sklearn.preprocessing import OneHotEncoder\n"
   ]
  },
  {
   "cell_type": "code",
   "execution_count": 4,
   "metadata": {
    "collapsed": true
   },
   "outputs": [],
   "source": [
    "Path = \"profiles/\"\n",
    "filelist = os.listdir(Path)"
   ]
  },
  {
   "cell_type": "code",
   "execution_count": 3,
   "metadata": {
    "collapsed": true
   },
   "outputs": [],
   "source": [
    "def read_all():\n",
    "    \n",
    "    flag=0\n",
    "    flag2=0\n",
    "    \n",
    "    user_keys = ['alias', 'username', 'numberPosts', 'descriptionProfile', 'numberFollowers', 'numberFollowing', 'urlProfile', 'urlImgProfile', 'website'] # The keys you want\n",
    "    post_keys = ['url', 'urlImage', 'numberLikes', 'localization', 'date', 'description', 'tags', 'multipleImage', 'mentions', 'isVideo', 'filename'] # The keys you want\n",
    "    \n",
    "    #user_cols=['urlProfile', 'numberPosts', 'alias', 'descriptionProfile',  'numberFollowers', 'urlImgProfile', 'username', 'website', 'numberFollowing']\n",
    "    user_cols=['urlProfile', 'alias', 'numberFollowing', 'numberFollowers', 'username', 'numberPosts', 'website', 'descriptionProfile',  'urlImgProfile']\n",
    "    # might switch multipleImage and isVideo\n",
    "    post_cols = ['url', 'description',  'date', 'numberLikes', 'tags', 'filename', 'urlImage', 'localization', 'isVideo', 'multipleImage', 'mentions']\n",
    "    \n",
    "    for k in filelist:\n",
    "        if k.endswith(\".json\"):  # You could also add \"and i.startswith('f')\n",
    "            \n",
    "            # Read file\n",
    "            with open(Path + str(k)) as json_data:\n",
    "                        data = json.load(json_data)\n",
    "                            \n",
    "            if (data['posts']!=[]):\n",
    "                \n",
    "                if data[\"descriptionProfile\"]!=None:\n",
    "                    temp=data[\"descriptionProfile\"]\n",
    "                    data[\"descriptionProfile\"]=temp[0]\n",
    "                           \n",
    "                # Generate user data\n",
    "                user_data=dict((k, data[k]) for k in user_keys if k in data)\n",
    "                user_df=pd.DataFrame.from_dict(user_data, orient='index').T\n",
    "\n",
    "                # Generate posts data for given user\n",
    "                for i in range(0,len(data['posts'])):\n",
    "                    \n",
    "                    for k in post_keys:\n",
    "                        if k in data['posts'][i]:\n",
    "                            if isinstance(data['posts'][i][k], str):\n",
    "                                data['posts'][i][k]=data['posts'][i][k].replace('\\r','')\n",
    "\n",
    "                    post=dict((k, data['posts'][i][k]) for k in post_keys if k in data['posts'][i])\n",
    "\n",
    "                    if (flag==0):\n",
    "                        all_posts=np.hstack((user_df, pd.DataFrame.from_dict(post, orient='index').T))\n",
    "                        flag=1\n",
    "                    else:\n",
    "                        new_post=np.hstack((user_df, pd.DataFrame.from_dict(post, orient='index').T))\n",
    "                        all_posts=np.vstack((all_posts,new_post)) \n",
    "\n",
    "\n",
    "                if (flag2==0):\n",
    "                    total=pd.DataFrame(all_posts, columns=list(reversed(user_keys))+list(reversed(post_keys)))\n",
    "                    flag2=1\n",
    "                else:\n",
    "                    total=np.vstack((total,pd.DataFrame(all_posts, columns=list(reversed(user_keys))+list(reversed(post_keys)))))   \n",
    "           \n",
    "                flag=0\n",
    "\n",
    "    dataset=pd.DataFrame(total, columns=user_cols+post_cols)\n",
    "    return dataset[[\"alias\", \"username\", \"numberFollowers\", \"numberFollowing\", \"numberPosts\", 'urlProfile', 'urlImgProfile', 'descriptionProfile', 'website', 'filename', 'url', 'urlImage', 'numberLikes', 'description', 'tags', 'mentions', 'localization', 'date', 'multipleImage', 'isVideo']]"
   ]
  },
  {
   "cell_type": "code",
   "execution_count": null,
   "metadata": {
    "collapsed": true
   },
   "outputs": [],
   "source": [
    "dataset = read_all()\n",
    "dataset.to_csv('newDataset.csv', index=False)"
   ]
  },
  {
   "cell_type": "markdown",
   "metadata": {},
   "source": [
    "# Import Dataset"
   ]
  },
  {
   "cell_type": "code",
   "execution_count": 198,
   "metadata": {
    "collapsed": false
   },
   "outputs": [],
   "source": [
    "full=pd.read_csv('dataset.csv', sep=',', na_values='NaN')\n",
    "y=full[\"numberLikes\"]\n",
    "\n",
    "toDrop = ['username', 'urlProfile', 'urlImgProfile', 'filename', 'url', 'urlImage', 'isVideo']\n",
    "processed = full.drop(toDrop,axis=1)\n",
    "\n",
    "nonCat = ['descriptionProfile', 'description', 'tags', 'mentions', 'localization']\n",
    "processed = processed.drop(nonCat, axis=1)"
   ]
  },
  {
   "cell_type": "markdown",
   "metadata": {},
   "source": [
    "# NLP"
   ]
  },
  {
   "cell_type": "code",
   "execution_count": 199,
   "metadata": {
    "collapsed": true
   },
   "outputs": [],
   "source": [
    "nlp = pd.read_csv('NLP_feature.csv', sep=',', na_values='NaN')\n",
    "nlp = nlp.drop([\"Unnamed: 0\"],axis=1)"
   ]
  },
  {
   "cell_type": "markdown",
   "metadata": {},
   "source": [
    "# Select data"
   ]
  },
  {
   "cell_type": "code",
   "execution_count": 200,
   "metadata": {
    "collapsed": false
   },
   "outputs": [
    {
     "data": {
      "text/html": [
       "<div>\n",
       "<table border=\"1\" class=\"dataframe\">\n",
       "  <thead>\n",
       "    <tr style=\"text-align: right;\">\n",
       "      <th></th>\n",
       "      <th>numberPosts</th>\n",
       "      <th>numberFollowing</th>\n",
       "      <th>numberFollowers</th>\n",
       "      <th>numberLikes</th>\n",
       "    </tr>\n",
       "  </thead>\n",
       "  <tbody>\n",
       "    <tr>\n",
       "      <th>count</th>\n",
       "      <td>16539.00</td>\n",
       "      <td>16539.00</td>\n",
       "      <td>16539.00</td>\n",
       "      <td>16539.00</td>\n",
       "    </tr>\n",
       "    <tr>\n",
       "      <th>mean</th>\n",
       "      <td>2315.73</td>\n",
       "      <td>2590.56</td>\n",
       "      <td>997829.41</td>\n",
       "      <td>24414.26</td>\n",
       "    </tr>\n",
       "    <tr>\n",
       "      <th>std</th>\n",
       "      <td>2655.38</td>\n",
       "      <td>59090.66</td>\n",
       "      <td>1934400.77</td>\n",
       "      <td>64220.60</td>\n",
       "    </tr>\n",
       "    <tr>\n",
       "      <th>min</th>\n",
       "      <td>15.00</td>\n",
       "      <td>0.00</td>\n",
       "      <td>124965.00</td>\n",
       "      <td>0.00</td>\n",
       "    </tr>\n",
       "    <tr>\n",
       "      <th>25%</th>\n",
       "      <td>787.00</td>\n",
       "      <td>191.00</td>\n",
       "      <td>198039.00</td>\n",
       "      <td>3232.50</td>\n",
       "    </tr>\n",
       "    <tr>\n",
       "      <th>50%</th>\n",
       "      <td>1481.00</td>\n",
       "      <td>396.00</td>\n",
       "      <td>393843.00</td>\n",
       "      <td>7351.00</td>\n",
       "    </tr>\n",
       "    <tr>\n",
       "      <th>75%</th>\n",
       "      <td>2932.00</td>\n",
       "      <td>645.00</td>\n",
       "      <td>935310.00</td>\n",
       "      <td>18357.00</td>\n",
       "    </tr>\n",
       "    <tr>\n",
       "      <th>max</th>\n",
       "      <td>27671.00</td>\n",
       "      <td>1838511.00</td>\n",
       "      <td>22130730.00</td>\n",
       "      <td>1115123.00</td>\n",
       "    </tr>\n",
       "  </tbody>\n",
       "</table>\n",
       "</div>"
      ],
      "text/plain": [
       "       numberPosts  numberFollowing  numberFollowers  numberLikes\n",
       "count     16539.00         16539.00         16539.00     16539.00\n",
       "mean       2315.73          2590.56        997829.41     24414.26\n",
       "std        2655.38         59090.66       1934400.77     64220.60\n",
       "min          15.00             0.00        124965.00         0.00\n",
       "25%         787.00           191.00        198039.00      3232.50\n",
       "50%        1481.00           396.00        393843.00      7351.00\n",
       "75%        2932.00           645.00        935310.00     18357.00\n",
       "max       27671.00       1838511.00      22130730.00   1115123.00"
      ]
     },
     "execution_count": 200,
     "metadata": {},
     "output_type": "execute_result"
    }
   ],
   "source": [
    "pd.options.display.float_format = '{:.2f}'.format\n",
    "processed.describe()"
   ]
  },
  {
   "cell_type": "code",
   "execution_count": 201,
   "metadata": {
    "collapsed": false,
    "scrolled": true
   },
   "outputs": [
    {
     "data": {
      "text/plain": [
       "(array([  1.54160000e+04,   6.13000000e+02,   2.34000000e+02,\n",
       "          9.10000000e+01,   6.60000000e+01,   4.00000000e+01,\n",
       "          2.30000000e+01,   1.50000000e+01,   5.00000000e+00,\n",
       "          1.10000000e+01,   8.00000000e+00,   5.00000000e+00,\n",
       "          5.00000000e+00,   4.00000000e+00,   3.00000000e+00]),\n",
       " array([       0.        ,    74341.53333333,   148683.06666667,\n",
       "          223024.6       ,   297366.13333333,   371707.66666667,\n",
       "          446049.2       ,   520390.73333333,   594732.26666667,\n",
       "          669073.8       ,   743415.33333333,   817756.86666667,\n",
       "          892098.4       ,   966439.93333333,  1040781.46666667,  1115123.        ]),\n",
       " <a list of 15 Patch objects>)"
      ]
     },
     "execution_count": 201,
     "metadata": {},
     "output_type": "execute_result"
    },
    {
     "data": {
      "image/png": "[encoded data removed]",
      "text/plain": [
       "<matplotlib.figure.Figure at 0x7f9e9a46fd30>"
      ]
     },
     "metadata": {},
     "output_type": "display_data"
    }
   ],
   "source": [
    "plt.hist(processed.numberLikes, 15)\n",
    "#plt.xlim(80000, 800000)\n",
    "#plt.ylim(0, 2000)"
   ]
  },
  {
   "cell_type": "code",
   "execution_count": 202,
   "metadata": {
    "collapsed": false
   },
   "outputs": [
    {
     "data": {
      "text/plain": [
       "(array([ 14244.,   1190.,    374.,    255.,    153.,     68.,    119.,\n",
       "            34.,     17.,     17.,     17.,     17.,      0.,     17.,\n",
       "            17.]),\n",
       " array([   124965.,   1592016.,   3059067.,   4526118.,   5993169.,\n",
       "          7460220.,   8927271.,  10394322.,  11861373.,  13328424.,\n",
       "         14795475.,  16262526.,  17729577.,  19196628.,  20663679.,\n",
       "         22130730.]),\n",
       " <a list of 15 Patch objects>)"
      ]
     },
     "execution_count": 202,
     "metadata": {},
     "output_type": "execute_result"
    },
    {
     "data": {
      "image/png": "[encoded data removed]",
      "text/plain": [
       "<matplotlib.figure.Figure at 0x7f9e99bbdd30>"
      ]
     },
     "metadata": {},
     "output_type": "display_data"
    }
   ],
   "source": [
    "plt.hist(processed.numberFollowers, 15)"
   ]
  },
  {
   "cell_type": "code",
   "execution_count": 203,
   "metadata": {
    "collapsed": true
   },
   "outputs": [],
   "source": [
    "le = preprocessing.LabelEncoder()\n",
    "le.fit(processed[\"alias\"])\n",
    "list(le.classes_)\n",
    "alias_num=le.transform(processed[\"alias\"])\n",
    "#list(le.inverse_transform(alias_num))\n",
    "processed[\"aliasNum\"]=alias_num"
   ]
  },
  {
   "cell_type": "code",
   "execution_count": 204,
   "metadata": {
    "collapsed": false
   },
   "outputs": [],
   "source": [
    "avgLikes = []\n",
    "numFollowers = []\n",
    "selection = []\n",
    "\n",
    "for i in range(0,np.max(processed[\"aliasNum\"],axis=0)):\n",
    "    numFollowers=np.append(numFollowers, processed[processed[\"aliasNum\"]==i]['numberFollowers'].iloc[0])\n",
    "    avgLikes=np.append(avgLikes, np.sum(processed[processed[\"aliasNum\"]==i][\"numberLikes\"])/len(processed[processed[\"aliasNum\"]==i]))\n",
    "    processed.loc[processed[\"aliasNum\"]==i, 'ratio']=avgLikes[i]\n",
    "    if (avgLikes[i]<200000 and processed[processed[\"aliasNum\"]==i]['numberFollowers'].iloc[0]<1000000):\n",
    "        selection=np.append(selection, i)"
   ]
  },
  {
   "cell_type": "code",
   "execution_count": 205,
   "metadata": {
    "collapsed": false
   },
   "outputs": [
    {
     "data": {
      "text/html": [
       "<div>\n",
       "<table border=\"1\" class=\"dataframe\">\n",
       "  <thead>\n",
       "    <tr style=\"text-align: right;\">\n",
       "      <th></th>\n",
       "      <th>0</th>\n",
       "    </tr>\n",
       "  </thead>\n",
       "  <tbody>\n",
       "    <tr>\n",
       "      <th>count</th>\n",
       "      <td>746.00</td>\n",
       "    </tr>\n",
       "    <tr>\n",
       "      <th>mean</th>\n",
       "      <td>479.87</td>\n",
       "    </tr>\n",
       "    <tr>\n",
       "      <th>std</th>\n",
       "      <td>281.85</td>\n",
       "    </tr>\n",
       "    <tr>\n",
       "      <th>min</th>\n",
       "      <td>0.00</td>\n",
       "    </tr>\n",
       "    <tr>\n",
       "      <th>25%</th>\n",
       "      <td>239.25</td>\n",
       "    </tr>\n",
       "    <tr>\n",
       "      <th>50%</th>\n",
       "      <td>477.50</td>\n",
       "    </tr>\n",
       "    <tr>\n",
       "      <th>75%</th>\n",
       "      <td>725.50</td>\n",
       "    </tr>\n",
       "    <tr>\n",
       "      <th>max</th>\n",
       "      <td>971.00</td>\n",
       "    </tr>\n",
       "  </tbody>\n",
       "</table>\n",
       "</div>"
      ],
      "text/plain": [
       "           0\n",
       "count 746.00\n",
       "mean  479.87\n",
       "std   281.85\n",
       "min     0.00\n",
       "25%   239.25\n",
       "50%   477.50\n",
       "75%   725.50\n",
       "max   971.00"
      ]
     },
     "execution_count": 205,
     "metadata": {},
     "output_type": "execute_result"
    }
   ],
   "source": [
    "pd.DataFrame(selection).describe()"
   ]
  },
  {
   "cell_type": "code",
   "execution_count": 206,
   "metadata": {
    "collapsed": false
   },
   "outputs": [
    {
     "data": {
      "text/html": [
       "<div>\n",
       "<table border=\"1\" class=\"dataframe\">\n",
       "  <thead>\n",
       "    <tr style=\"text-align: right;\">\n",
       "      <th></th>\n",
       "      <th>0</th>\n",
       "    </tr>\n",
       "  </thead>\n",
       "  <tbody>\n",
       "    <tr>\n",
       "      <th>count</th>\n",
       "      <td>972.00</td>\n",
       "    </tr>\n",
       "    <tr>\n",
       "      <th>mean</th>\n",
       "      <td>0.02</td>\n",
       "    </tr>\n",
       "    <tr>\n",
       "      <th>std</th>\n",
       "      <td>0.02</td>\n",
       "    </tr>\n",
       "    <tr>\n",
       "      <th>min</th>\n",
       "      <td>0.00</td>\n",
       "    </tr>\n",
       "    <tr>\n",
       "      <th>25%</th>\n",
       "      <td>0.01</td>\n",
       "    </tr>\n",
       "    <tr>\n",
       "      <th>50%</th>\n",
       "      <td>0.02</td>\n",
       "    </tr>\n",
       "    <tr>\n",
       "      <th>75%</th>\n",
       "      <td>0.03</td>\n",
       "    </tr>\n",
       "    <tr>\n",
       "      <th>max</th>\n",
       "      <td>0.17</td>\n",
       "    </tr>\n",
       "  </tbody>\n",
       "</table>\n",
       "</div>"
      ],
      "text/plain": [
       "           0\n",
       "count 972.00\n",
       "mean    0.02\n",
       "std     0.02\n",
       "min     0.00\n",
       "25%     0.01\n",
       "50%     0.02\n",
       "75%     0.03\n",
       "max     0.17"
      ]
     },
     "execution_count": 206,
     "metadata": {},
     "output_type": "execute_result"
    }
   ],
   "source": [
    "po=pd.DataFrame(avgLikes/numFollowers)\n",
    "po.describe()"
   ]
  },
  {
   "cell_type": "code",
   "execution_count": 207,
   "metadata": {
    "collapsed": false
   },
   "outputs": [],
   "source": [
    "processed = pd.concat([processed, nlp], axis=1)"
   ]
  },
  {
   "cell_type": "code",
   "execution_count": 208,
   "metadata": {
    "collapsed": false
   },
   "outputs": [
    {
     "data": {
      "text/html": [
       "<div>\n",
       "<table border=\"1\" class=\"dataframe\">\n",
       "  <thead>\n",
       "    <tr style=\"text-align: right;\">\n",
       "      <th></th>\n",
       "      <th>numberPosts</th>\n",
       "      <th>numberFollowing</th>\n",
       "      <th>numberFollowers</th>\n",
       "      <th>numberLikes</th>\n",
       "      <th>aliasNum</th>\n",
       "      <th>ratio</th>\n",
       "      <th>able</th>\n",
       "      <th>account</th>\n",
       "      <th>actually</th>\n",
       "      <th>ad</th>\n",
       "      <th>...</th>\n",
       "      <th>yang</th>\n",
       "      <th>year</th>\n",
       "      <th>years</th>\n",
       "      <th>yes</th>\n",
       "      <th>yesterday</th>\n",
       "      <th>yet</th>\n",
       "      <th>yo</th>\n",
       "      <th>yoga</th>\n",
       "      <th>young</th>\n",
       "      <th>youtube</th>\n",
       "    </tr>\n",
       "  </thead>\n",
       "  <tbody>\n",
       "    <tr>\n",
       "      <th>count</th>\n",
       "      <td>12680.00</td>\n",
       "      <td>12680.00</td>\n",
       "      <td>12680.00</td>\n",
       "      <td>12680.00</td>\n",
       "      <td>12680.00</td>\n",
       "      <td>12680.00</td>\n",
       "      <td>12680.00</td>\n",
       "      <td>12680.00</td>\n",
       "      <td>12680.00</td>\n",
       "      <td>12680.00</td>\n",
       "      <td>...</td>\n",
       "      <td>12680.00</td>\n",
       "      <td>12680.00</td>\n",
       "      <td>12680.00</td>\n",
       "      <td>12680.00</td>\n",
       "      <td>12680.00</td>\n",
       "      <td>12680.00</td>\n",
       "      <td>12680.00</td>\n",
       "      <td>12680.00</td>\n",
       "      <td>12680.00</td>\n",
       "      <td>12680.00</td>\n",
       "    </tr>\n",
       "    <tr>\n",
       "      <th>mean</th>\n",
       "      <td>1941.02</td>\n",
       "      <td>3026.48</td>\n",
       "      <td>362515.26</td>\n",
       "      <td>8306.70</td>\n",
       "      <td>479.80</td>\n",
       "      <td>8306.70</td>\n",
       "      <td>0.01</td>\n",
       "      <td>0.01</td>\n",
       "      <td>0.01</td>\n",
       "      <td>0.02</td>\n",
       "      <td>...</td>\n",
       "      <td>0.01</td>\n",
       "      <td>0.02</td>\n",
       "      <td>0.03</td>\n",
       "      <td>0.01</td>\n",
       "      <td>0.01</td>\n",
       "      <td>0.01</td>\n",
       "      <td>0.01</td>\n",
       "      <td>0.01</td>\n",
       "      <td>0.01</td>\n",
       "      <td>0.01</td>\n",
       "    </tr>\n",
       "    <tr>\n",
       "      <th>std</th>\n",
       "      <td>2007.64</td>\n",
       "      <td>67258.90</td>\n",
       "      <td>227120.79</td>\n",
       "      <td>9998.49</td>\n",
       "      <td>281.63</td>\n",
       "      <td>9335.25</td>\n",
       "      <td>0.08</td>\n",
       "      <td>0.09</td>\n",
       "      <td>0.08</td>\n",
       "      <td>0.12</td>\n",
       "      <td>...</td>\n",
       "      <td>0.24</td>\n",
       "      <td>0.18</td>\n",
       "      <td>0.18</td>\n",
       "      <td>0.10</td>\n",
       "      <td>0.10</td>\n",
       "      <td>0.11</td>\n",
       "      <td>0.12</td>\n",
       "      <td>0.16</td>\n",
       "      <td>0.10</td>\n",
       "      <td>0.10</td>\n",
       "    </tr>\n",
       "    <tr>\n",
       "      <th>min</th>\n",
       "      <td>15.00</td>\n",
       "      <td>0.00</td>\n",
       "      <td>124965.00</td>\n",
       "      <td>0.00</td>\n",
       "      <td>0.00</td>\n",
       "      <td>110.87</td>\n",
       "      <td>0.00</td>\n",
       "      <td>0.00</td>\n",
       "      <td>0.00</td>\n",
       "      <td>0.00</td>\n",
       "      <td>...</td>\n",
       "      <td>0.00</td>\n",
       "      <td>0.00</td>\n",
       "      <td>0.00</td>\n",
       "      <td>0.00</td>\n",
       "      <td>0.00</td>\n",
       "      <td>0.00</td>\n",
       "      <td>0.00</td>\n",
       "      <td>0.00</td>\n",
       "      <td>0.00</td>\n",
       "      <td>0.00</td>\n",
       "    </tr>\n",
       "    <tr>\n",
       "      <th>25%</th>\n",
       "      <td>722.00</td>\n",
       "      <td>202.00</td>\n",
       "      <td>180286.00</td>\n",
       "      <td>2630.00</td>\n",
       "      <td>239.00</td>\n",
       "      <td>2882.18</td>\n",
       "      <td>0.00</td>\n",
       "      <td>0.00</td>\n",
       "      <td>0.00</td>\n",
       "      <td>0.00</td>\n",
       "      <td>...</td>\n",
       "      <td>0.00</td>\n",
       "      <td>0.00</td>\n",
       "      <td>0.00</td>\n",
       "      <td>0.00</td>\n",
       "      <td>0.00</td>\n",
       "      <td>0.00</td>\n",
       "      <td>0.00</td>\n",
       "      <td>0.00</td>\n",
       "      <td>0.00</td>\n",
       "      <td>0.00</td>\n",
       "    </tr>\n",
       "    <tr>\n",
       "      <th>50%</th>\n",
       "      <td>1369.00</td>\n",
       "      <td>405.00</td>\n",
       "      <td>283490.00</td>\n",
       "      <td>5297.00</td>\n",
       "      <td>477.00</td>\n",
       "      <td>5448.00</td>\n",
       "      <td>0.00</td>\n",
       "      <td>0.00</td>\n",
       "      <td>0.00</td>\n",
       "      <td>0.00</td>\n",
       "      <td>...</td>\n",
       "      <td>0.00</td>\n",
       "      <td>0.00</td>\n",
       "      <td>0.00</td>\n",
       "      <td>0.00</td>\n",
       "      <td>0.00</td>\n",
       "      <td>0.00</td>\n",
       "      <td>0.00</td>\n",
       "      <td>0.00</td>\n",
       "      <td>0.00</td>\n",
       "      <td>0.00</td>\n",
       "    </tr>\n",
       "    <tr>\n",
       "      <th>75%</th>\n",
       "      <td>2566.00</td>\n",
       "      <td>656.00</td>\n",
       "      <td>493550.00</td>\n",
       "      <td>10323.25</td>\n",
       "      <td>726.00</td>\n",
       "      <td>10379.94</td>\n",
       "      <td>0.00</td>\n",
       "      <td>0.00</td>\n",
       "      <td>0.00</td>\n",
       "      <td>0.00</td>\n",
       "      <td>...</td>\n",
       "      <td>0.00</td>\n",
       "      <td>0.00</td>\n",
       "      <td>0.00</td>\n",
       "      <td>0.00</td>\n",
       "      <td>0.00</td>\n",
       "      <td>0.00</td>\n",
       "      <td>0.00</td>\n",
       "      <td>0.00</td>\n",
       "      <td>0.00</td>\n",
       "      <td>0.00</td>\n",
       "    </tr>\n",
       "    <tr>\n",
       "      <th>max</th>\n",
       "      <td>19590.00</td>\n",
       "      <td>1838511.00</td>\n",
       "      <td>996578.00</td>\n",
       "      <td>180164.00</td>\n",
       "      <td>971.00</td>\n",
       "      <td>120681.47</td>\n",
       "      <td>2.00</td>\n",
       "      <td>2.00</td>\n",
       "      <td>2.00</td>\n",
       "      <td>3.00</td>\n",
       "      <td>...</td>\n",
       "      <td>9.00</td>\n",
       "      <td>4.00</td>\n",
       "      <td>4.00</td>\n",
       "      <td>3.00</td>\n",
       "      <td>2.00</td>\n",
       "      <td>4.00</td>\n",
       "      <td>8.00</td>\n",
       "      <td>7.00</td>\n",
       "      <td>4.00</td>\n",
       "      <td>3.00</td>\n",
       "    </tr>\n",
       "  </tbody>\n",
       "</table>\n",
       "<p>8 rows × 506 columns</p>\n",
       "</div>"
      ],
      "text/plain": [
       "       numberPosts  numberFollowing  numberFollowers  numberLikes  aliasNum  \\\n",
       "count     12680.00         12680.00         12680.00     12680.00  12680.00   \n",
       "mean       1941.02          3026.48        362515.26      8306.70    479.80   \n",
       "std        2007.64         67258.90        227120.79      9998.49    281.63   \n",
       "min          15.00             0.00        124965.00         0.00      0.00   \n",
       "25%         722.00           202.00        180286.00      2630.00    239.00   \n",
       "50%        1369.00           405.00        283490.00      5297.00    477.00   \n",
       "75%        2566.00           656.00        493550.00     10323.25    726.00   \n",
       "max       19590.00       1838511.00        996578.00    180164.00    971.00   \n",
       "\n",
       "          ratio     able  account  actually       ad   ...        yang  \\\n",
       "count  12680.00 12680.00 12680.00  12680.00 12680.00   ...    12680.00   \n",
       "mean    8306.70     0.01     0.01      0.01     0.02   ...        0.01   \n",
       "std     9335.25     0.08     0.09      0.08     0.12   ...        0.24   \n",
       "min      110.87     0.00     0.00      0.00     0.00   ...        0.00   \n",
       "25%     2882.18     0.00     0.00      0.00     0.00   ...        0.00   \n",
       "50%     5448.00     0.00     0.00      0.00     0.00   ...        0.00   \n",
       "75%    10379.94     0.00     0.00      0.00     0.00   ...        0.00   \n",
       "max   120681.47     2.00     2.00      2.00     3.00   ...        9.00   \n",
       "\n",
       "          year    years      yes  yesterday      yet       yo     yoga  \\\n",
       "count 12680.00 12680.00 12680.00   12680.00 12680.00 12680.00 12680.00   \n",
       "mean      0.02     0.03     0.01       0.01     0.01     0.01     0.01   \n",
       "std       0.18     0.18     0.10       0.10     0.11     0.12     0.16   \n",
       "min       0.00     0.00     0.00       0.00     0.00     0.00     0.00   \n",
       "25%       0.00     0.00     0.00       0.00     0.00     0.00     0.00   \n",
       "50%       0.00     0.00     0.00       0.00     0.00     0.00     0.00   \n",
       "75%       0.00     0.00     0.00       0.00     0.00     0.00     0.00   \n",
       "max       4.00     4.00     3.00       2.00     4.00     8.00     7.00   \n",
       "\n",
       "         young  youtube  \n",
       "count 12680.00 12680.00  \n",
       "mean      0.01     0.01  \n",
       "std       0.10     0.10  \n",
       "min       0.00     0.00  \n",
       "25%       0.00     0.00  \n",
       "50%       0.00     0.00  \n",
       "75%       0.00     0.00  \n",
       "max       4.00     3.00  \n",
       "\n",
       "[8 rows x 506 columns]"
      ]
     },
     "execution_count": 208,
     "metadata": {},
     "output_type": "execute_result"
    }
   ],
   "source": [
    "filtered=processed[processed['aliasNum'].isin(selection)]\n",
    "filtered.describe()"
   ]
  },
  {
   "cell_type": "code",
   "execution_count": 209,
   "metadata": {
    "collapsed": false
   },
   "outputs": [
    {
     "data": {
      "text/plain": [
       "(0, 200000)"
      ]
     },
     "execution_count": 209,
     "metadata": {},
     "output_type": "execute_result"
    },
    {
     "data": {
      "image/png": "[encoded data removed]",
      "text/plain": [
       "<matplotlib.figure.Figure at 0x7f9e9a49ab00>"
      ]
     },
     "metadata": {},
     "output_type": "display_data"
    }
   ],
   "source": [
    "plt.hist(filtered.numberLikes, 50)\n",
    "plt.xlim(0, 200000)\n",
    "#plt.ylim(0, 2000)"
   ]
  },
  {
   "cell_type": "code",
   "execution_count": 210,
   "metadata": {
    "collapsed": false
   },
   "outputs": [
    {
     "data": {
      "text/plain": [
       "(0, 1000000)"
      ]
     },
     "execution_count": 210,
     "metadata": {},
     "output_type": "execute_result"
    },
    {
     "data": {
      "image/png": "[encoded data removed]",
      "text/plain": [
       "<matplotlib.figure.Figure at 0x7f9e8af4fcc0>"
      ]
     },
     "metadata": {},
     "output_type": "display_data"
    }
   ],
   "source": [
    "plt.hist(avgLikes,50)\n",
    "plt.xlim(0, 1000000)\n",
    "#plt.ylim(0, 2000)"
   ]
  },
  {
   "cell_type": "code",
   "execution_count": 211,
   "metadata": {
    "collapsed": false
   },
   "outputs": [
    {
     "data": {
      "text/html": [
       "<div>\n",
       "<table border=\"1\" class=\"dataframe\">\n",
       "  <thead>\n",
       "    <tr style=\"text-align: right;\">\n",
       "      <th></th>\n",
       "      <th>0</th>\n",
       "    </tr>\n",
       "  </thead>\n",
       "  <tbody>\n",
       "    <tr>\n",
       "      <th>count</th>\n",
       "      <td>972.00</td>\n",
       "    </tr>\n",
       "    <tr>\n",
       "      <th>mean</th>\n",
       "      <td>24429.64</td>\n",
       "    </tr>\n",
       "    <tr>\n",
       "      <th>std</th>\n",
       "      <td>61732.63</td>\n",
       "    </tr>\n",
       "    <tr>\n",
       "      <th>min</th>\n",
       "      <td>110.87</td>\n",
       "    </tr>\n",
       "    <tr>\n",
       "      <th>25%</th>\n",
       "      <td>3594.37</td>\n",
       "    </tr>\n",
       "    <tr>\n",
       "      <th>50%</th>\n",
       "      <td>7689.24</td>\n",
       "    </tr>\n",
       "    <tr>\n",
       "      <th>75%</th>\n",
       "      <td>18719.16</td>\n",
       "    </tr>\n",
       "    <tr>\n",
       "      <th>max</th>\n",
       "      <td>875806.41</td>\n",
       "    </tr>\n",
       "  </tbody>\n",
       "</table>\n",
       "</div>"
      ],
      "text/plain": [
       "              0\n",
       "count    972.00\n",
       "mean   24429.64\n",
       "std    61732.63\n",
       "min      110.87\n",
       "25%     3594.37\n",
       "50%     7689.24\n",
       "75%    18719.16\n",
       "max   875806.41"
      ]
     },
     "execution_count": 211,
     "metadata": {},
     "output_type": "execute_result"
    }
   ],
   "source": [
    "pd.DataFrame(avgLikes).describe()"
   ]
  },
  {
   "cell_type": "markdown",
   "metadata": {},
   "source": [
    "# Feature extraction"
   ]
  },
  {
   "cell_type": "code",
   "execution_count": 212,
   "metadata": {
    "collapsed": false
   },
   "outputs": [],
   "source": [
    "modified = filtered.drop([\"alias\"],axis=1)\n",
    "modified = modified.reset_index(drop=True)"
   ]
  },
  {
   "cell_type": "markdown",
   "metadata": {},
   "source": [
    "### Convert website to categorical features"
   ]
  },
  {
   "cell_type": "code",
   "execution_count": 213,
   "metadata": {
    "collapsed": true
   },
   "outputs": [],
   "source": [
    "modified['you']=modified['website'].str.contains(\"youtube|youtu\", na=False).astype(int)\n",
    "modified['music']=modified['website'].str.contains(\"soundcloud|spoti\", na=False).astype(int)\n",
    "modified['tumblr']=modified['website'].str.contains(\"tumblr\", na=False).astype(int)\n",
    "modified['facebook']=modified['website'].str.contains(\"facebook\", na=False).astype(int)\n",
    "modified['blog']=modified['website'].str.contains(\"blog|wordpress\", na=False).astype(int)\n",
    "modified['twitter']=modified['website'].str.contains(\"twitter\", na=False).astype(int)\n",
    "modified['other']=modified['website'].str.contains(\".\", na=False).astype(int)\n",
    "\n",
    "modified = modified.drop(['website'], axis=1)"
   ]
  },
  {
   "cell_type": "markdown",
   "metadata": {},
   "source": [
    "### Convert multipleImage to int"
   ]
  },
  {
   "cell_type": "code",
   "execution_count": 214,
   "metadata": {
    "collapsed": true
   },
   "outputs": [],
   "source": [
    "modified['multipleImage']=modified['multipleImage'].astype(int)"
   ]
  },
  {
   "cell_type": "markdown",
   "metadata": {},
   "source": [
    "### Convert dates to days of week"
   ]
  },
  {
   "cell_type": "code",
   "execution_count": 215,
   "metadata": {
    "collapsed": false
   },
   "outputs": [],
   "source": [
    "copy=modified[\"date\"].copy()\n",
    "for i in range(0, len(modified)):\n",
    "    copy[i] = datetime.weekday((dateutil.parser.parse(modified[\"date\"][i])))\n",
    "modified[\"date\"]=copy.astype(np.int64)\n",
    "\n",
    "modified['mon']=(modified['date']==0).astype(int)\n",
    "modified['tue']=(modified['date']==1).astype(int)\n",
    "modified['wed']=(modified['date']==2).astype(int)\n",
    "modified['thu']=(modified['date']==3).astype(int)\n",
    "modified['fri']=(modified['date']==4).astype(int)\n",
    "modified['sat']=(modified['date']==5).astype(int)\n",
    "modified['sun']=(modified['date']==6).astype(int)\n",
    "\n",
    "modified = modified.drop(['date'], axis=1)"
   ]
  },
  {
   "cell_type": "markdown",
   "metadata": {},
   "source": [
    "### One hot encode alias number"
   ]
  },
  {
   "cell_type": "code",
   "execution_count": 123,
   "metadata": {
    "collapsed": false
   },
   "outputs": [],
   "source": [
    "# One hot encoding\n",
    "encoder = OneHotEncoder()\n",
    "encoder.fit(modified[\"aliasNum\"].values.reshape(-1, 1))\n",
    "alias_sparse = encoder.transform(modified[\"aliasNum\"].values.reshape(-1, 1))"
   ]
  },
  {
   "cell_type": "code",
   "execution_count": 23,
   "metadata": {
    "collapsed": true
   },
   "outputs": [],
   "source": [
    "y = modified['numberLikes']\n",
    "modified = modified.drop(['numberLikes'],axis=1)"
   ]
  },
  {
   "cell_type": "code",
   "execution_count": 146,
   "metadata": {
    "collapsed": false
   },
   "outputs": [],
   "source": [
    "modified=sp.sparse.hstack((modified.astype(float), alias_sparse))"
   ]
  },
  {
   "cell_type": "code",
   "execution_count": 119,
   "metadata": {
    "collapsed": false
   },
   "outputs": [
    {
     "data": {
      "text/html": [
       "<div>\n",
       "<table border=\"1\" class=\"dataframe\">\n",
       "  <thead>\n",
       "    <tr style=\"text-align: right;\">\n",
       "      <th></th>\n",
       "      <th>numberPosts</th>\n",
       "      <th>numberFollowing</th>\n",
       "      <th>numberFollowers</th>\n",
       "      <th>multipleImage</th>\n",
       "      <th>numberLikes</th>\n",
       "      <th>aliasNum</th>\n",
       "      <th>ratio</th>\n",
       "      <th>you</th>\n",
       "      <th>music</th>\n",
       "      <th>tumblr</th>\n",
       "      <th>...</th>\n",
       "      <th>blog</th>\n",
       "      <th>twitter</th>\n",
       "      <th>other</th>\n",
       "      <th>mon</th>\n",
       "      <th>tue</th>\n",
       "      <th>wed</th>\n",
       "      <th>thu</th>\n",
       "      <th>fri</th>\n",
       "      <th>sat</th>\n",
       "      <th>sun</th>\n",
       "    </tr>\n",
       "  </thead>\n",
       "  <tbody>\n",
       "    <tr>\n",
       "      <th>count</th>\n",
       "      <td>12680.00</td>\n",
       "      <td>12680.00</td>\n",
       "      <td>12680.00</td>\n",
       "      <td>12680.00</td>\n",
       "      <td>12680.00</td>\n",
       "      <td>12680.00</td>\n",
       "      <td>12680.00</td>\n",
       "      <td>12680.00</td>\n",
       "      <td>12680.00</td>\n",
       "      <td>12680.00</td>\n",
       "      <td>...</td>\n",
       "      <td>12680.00</td>\n",
       "      <td>12680.00</td>\n",
       "      <td>12680.00</td>\n",
       "      <td>12680.00</td>\n",
       "      <td>12680.00</td>\n",
       "      <td>12680.00</td>\n",
       "      <td>12680.00</td>\n",
       "      <td>12680.00</td>\n",
       "      <td>12680.00</td>\n",
       "      <td>12680.00</td>\n",
       "    </tr>\n",
       "    <tr>\n",
       "      <th>mean</th>\n",
       "      <td>1941.02</td>\n",
       "      <td>3026.48</td>\n",
       "      <td>362515.26</td>\n",
       "      <td>0.03</td>\n",
       "      <td>8306.70</td>\n",
       "      <td>479.80</td>\n",
       "      <td>8306.70</td>\n",
       "      <td>0.11</td>\n",
       "      <td>0.01</td>\n",
       "      <td>0.00</td>\n",
       "      <td>...</td>\n",
       "      <td>0.02</td>\n",
       "      <td>0.00</td>\n",
       "      <td>0.88</td>\n",
       "      <td>0.11</td>\n",
       "      <td>0.13</td>\n",
       "      <td>0.14</td>\n",
       "      <td>0.15</td>\n",
       "      <td>0.14</td>\n",
       "      <td>0.15</td>\n",
       "      <td>0.18</td>\n",
       "    </tr>\n",
       "    <tr>\n",
       "      <th>std</th>\n",
       "      <td>2007.64</td>\n",
       "      <td>67258.90</td>\n",
       "      <td>227120.79</td>\n",
       "      <td>0.17</td>\n",
       "      <td>9998.49</td>\n",
       "      <td>281.63</td>\n",
       "      <td>9335.25</td>\n",
       "      <td>0.32</td>\n",
       "      <td>0.07</td>\n",
       "      <td>0.04</td>\n",
       "      <td>...</td>\n",
       "      <td>0.14</td>\n",
       "      <td>0.05</td>\n",
       "      <td>0.32</td>\n",
       "      <td>0.32</td>\n",
       "      <td>0.34</td>\n",
       "      <td>0.35</td>\n",
       "      <td>0.36</td>\n",
       "      <td>0.35</td>\n",
       "      <td>0.35</td>\n",
       "      <td>0.38</td>\n",
       "    </tr>\n",
       "    <tr>\n",
       "      <th>min</th>\n",
       "      <td>15.00</td>\n",
       "      <td>0.00</td>\n",
       "      <td>124965.00</td>\n",
       "      <td>0.00</td>\n",
       "      <td>0.00</td>\n",
       "      <td>0.00</td>\n",
       "      <td>110.87</td>\n",
       "      <td>0.00</td>\n",
       "      <td>0.00</td>\n",
       "      <td>0.00</td>\n",
       "      <td>...</td>\n",
       "      <td>0.00</td>\n",
       "      <td>0.00</td>\n",
       "      <td>0.00</td>\n",
       "      <td>0.00</td>\n",
       "      <td>0.00</td>\n",
       "      <td>0.00</td>\n",
       "      <td>0.00</td>\n",
       "      <td>0.00</td>\n",
       "      <td>0.00</td>\n",
       "      <td>0.00</td>\n",
       "    </tr>\n",
       "    <tr>\n",
       "      <th>25%</th>\n",
       "      <td>722.00</td>\n",
       "      <td>202.00</td>\n",
       "      <td>180286.00</td>\n",
       "      <td>0.00</td>\n",
       "      <td>2630.00</td>\n",
       "      <td>239.00</td>\n",
       "      <td>2882.18</td>\n",
       "      <td>0.00</td>\n",
       "      <td>0.00</td>\n",
       "      <td>0.00</td>\n",
       "      <td>...</td>\n",
       "      <td>0.00</td>\n",
       "      <td>0.00</td>\n",
       "      <td>1.00</td>\n",
       "      <td>0.00</td>\n",
       "      <td>0.00</td>\n",
       "      <td>0.00</td>\n",
       "      <td>0.00</td>\n",
       "      <td>0.00</td>\n",
       "      <td>0.00</td>\n",
       "      <td>0.00</td>\n",
       "    </tr>\n",
       "    <tr>\n",
       "      <th>50%</th>\n",
       "      <td>1369.00</td>\n",
       "      <td>405.00</td>\n",
       "      <td>283490.00</td>\n",
       "      <td>0.00</td>\n",
       "      <td>5297.00</td>\n",
       "      <td>477.00</td>\n",
       "      <td>5448.00</td>\n",
       "      <td>0.00</td>\n",
       "      <td>0.00</td>\n",
       "      <td>0.00</td>\n",
       "      <td>...</td>\n",
       "      <td>0.00</td>\n",
       "      <td>0.00</td>\n",
       "      <td>1.00</td>\n",
       "      <td>0.00</td>\n",
       "      <td>0.00</td>\n",
       "      <td>0.00</td>\n",
       "      <td>0.00</td>\n",
       "      <td>0.00</td>\n",
       "      <td>0.00</td>\n",
       "      <td>0.00</td>\n",
       "    </tr>\n",
       "    <tr>\n",
       "      <th>75%</th>\n",
       "      <td>2566.00</td>\n",
       "      <td>656.00</td>\n",
       "      <td>493550.00</td>\n",
       "      <td>0.00</td>\n",
       "      <td>10323.25</td>\n",
       "      <td>726.00</td>\n",
       "      <td>10379.94</td>\n",
       "      <td>0.00</td>\n",
       "      <td>0.00</td>\n",
       "      <td>0.00</td>\n",
       "      <td>...</td>\n",
       "      <td>0.00</td>\n",
       "      <td>0.00</td>\n",
       "      <td>1.00</td>\n",
       "      <td>0.00</td>\n",
       "      <td>0.00</td>\n",
       "      <td>0.00</td>\n",
       "      <td>0.00</td>\n",
       "      <td>0.00</td>\n",
       "      <td>0.00</td>\n",
       "      <td>0.00</td>\n",
       "    </tr>\n",
       "    <tr>\n",
       "      <th>max</th>\n",
       "      <td>19590.00</td>\n",
       "      <td>1838511.00</td>\n",
       "      <td>996578.00</td>\n",
       "      <td>1.00</td>\n",
       "      <td>180164.00</td>\n",
       "      <td>971.00</td>\n",
       "      <td>120681.47</td>\n",
       "      <td>1.00</td>\n",
       "      <td>1.00</td>\n",
       "      <td>1.00</td>\n",
       "      <td>...</td>\n",
       "      <td>1.00</td>\n",
       "      <td>1.00</td>\n",
       "      <td>1.00</td>\n",
       "      <td>1.00</td>\n",
       "      <td>1.00</td>\n",
       "      <td>1.00</td>\n",
       "      <td>1.00</td>\n",
       "      <td>1.00</td>\n",
       "      <td>1.00</td>\n",
       "      <td>1.00</td>\n",
       "    </tr>\n",
       "  </tbody>\n",
       "</table>\n",
       "<p>8 rows × 21 columns</p>\n",
       "</div>"
      ],
      "text/plain": [
       "       numberPosts  numberFollowing  numberFollowers  multipleImage  \\\n",
       "count     12680.00         12680.00         12680.00       12680.00   \n",
       "mean       1941.02          3026.48        362515.26           0.03   \n",
       "std        2007.64         67258.90        227120.79           0.17   \n",
       "min          15.00             0.00        124965.00           0.00   \n",
       "25%         722.00           202.00        180286.00           0.00   \n",
       "50%        1369.00           405.00        283490.00           0.00   \n",
       "75%        2566.00           656.00        493550.00           0.00   \n",
       "max       19590.00       1838511.00        996578.00           1.00   \n",
       "\n",
       "       numberLikes  aliasNum     ratio      you    music   tumblr   ...     \\\n",
       "count     12680.00  12680.00  12680.00 12680.00 12680.00 12680.00   ...      \n",
       "mean       8306.70    479.80   8306.70     0.11     0.01     0.00   ...      \n",
       "std        9998.49    281.63   9335.25     0.32     0.07     0.04   ...      \n",
       "min           0.00      0.00    110.87     0.00     0.00     0.00   ...      \n",
       "25%        2630.00    239.00   2882.18     0.00     0.00     0.00   ...      \n",
       "50%        5297.00    477.00   5448.00     0.00     0.00     0.00   ...      \n",
       "75%       10323.25    726.00  10379.94     0.00     0.00     0.00   ...      \n",
       "max      180164.00    971.00 120681.47     1.00     1.00     1.00   ...      \n",
       "\n",
       "          blog  twitter    other      mon      tue      wed      thu      fri  \\\n",
       "count 12680.00 12680.00 12680.00 12680.00 12680.00 12680.00 12680.00 12680.00   \n",
       "mean      0.02     0.00     0.88     0.11     0.13     0.14     0.15     0.14   \n",
       "std       0.14     0.05     0.32     0.32     0.34     0.35     0.36     0.35   \n",
       "min       0.00     0.00     0.00     0.00     0.00     0.00     0.00     0.00   \n",
       "25%       0.00     0.00     1.00     0.00     0.00     0.00     0.00     0.00   \n",
       "50%       0.00     0.00     1.00     0.00     0.00     0.00     0.00     0.00   \n",
       "75%       0.00     0.00     1.00     0.00     0.00     0.00     0.00     0.00   \n",
       "max       1.00     1.00     1.00     1.00     1.00     1.00     1.00     1.00   \n",
       "\n",
       "           sat      sun  \n",
       "count 12680.00 12680.00  \n",
       "mean      0.15     0.18  \n",
       "std       0.35     0.38  \n",
       "min       0.00     0.00  \n",
       "25%       0.00     0.00  \n",
       "50%       0.00     0.00  \n",
       "75%       0.00     0.00  \n",
       "max       1.00     1.00  \n",
       "\n",
       "[8 rows x 21 columns]"
      ]
     },
     "execution_count": 119,
     "metadata": {},
     "output_type": "execute_result"
    }
   ],
   "source": [
    "modified.describe()"
   ]
  },
  {
   "cell_type": "code",
   "execution_count": 216,
   "metadata": {
    "collapsed": false,
    "scrolled": true
   },
   "outputs": [
    {
     "data": {
      "text/plain": [
       "<matplotlib.collections.PathCollection at 0x7f9e98e18e48>"
      ]
     },
     "execution_count": 216,
     "metadata": {},
     "output_type": "execute_result"
    },
    {
     "data": {
      "image/png": "[encoded data removed]",
      "text/plain": [
       "<matplotlib.figure.Figure at 0x7f9e99168198>"
      ]
     },
     "metadata": {},
     "output_type": "display_data"
    }
   ],
   "source": [
    "plt.scatter(modified[\"numberFollowers\"], modified[\"numberLikes\"])"
   ]
  },
  {
   "cell_type": "markdown",
   "metadata": {},
   "source": [
    "# Create train and test dataset"
   ]
  },
  {
   "cell_type": "code",
   "execution_count": 217,
   "metadata": {
    "collapsed": false
   },
   "outputs": [],
   "source": [
    "deleted=modified[modified[\"aliasNum\"]==0][0:2]\n",
    "test=modified[modified[\"aliasNum\"]==0][3:6]\n",
    "train=modified[modified[\"aliasNum\"]==0][6:len(modified[modified[\"aliasNum\"]==0])]\n",
    "\n",
    "for i in range(1,np.max(modified[\"aliasNum\"],axis=0)):\n",
    "#for i in range(0,10):\n",
    "    deleted = pd.concat([deleted, modified[modified[\"aliasNum\"]==i][0:2]], axis=0)\n",
    "    test = pd.concat([test, modified[modified[\"aliasNum\"]==i][3:6]], axis=0)\n",
    "    train = pd.concat([train, modified[modified[\"aliasNum\"]==i][6:len(modified[modified[\"aliasNum\"]==i])]], axis=0)"
   ]
  },
  {
   "cell_type": "code",
   "execution_count": 218,
   "metadata": {
    "collapsed": true
   },
   "outputs": [],
   "source": [
    "X_train = train.drop(['numberLikes'],axis=1)\n",
    "y_train = train['numberLikes']\n",
    "X_test = test.drop(['numberLikes'],axis=1)\n",
    "y_test = test['numberLikes']"
   ]
  },
  {
   "cell_type": "code",
   "execution_count": 23,
   "metadata": {
    "collapsed": false
   },
   "outputs": [],
   "source": [
    "y = modified['numberLikes']\n",
    "modified = modified.drop(['numberLikes'],axis=1)"
   ]
  },
  {
   "cell_type": "code",
   "execution_count": 24,
   "metadata": {
    "collapsed": false
   },
   "outputs": [
    {
     "data": {
      "text/html": [
       "<div>\n",
       "<table border=\"1\" class=\"dataframe\">\n",
       "  <thead>\n",
       "    <tr style=\"text-align: right;\">\n",
       "      <th></th>\n",
       "      <th>numberPosts</th>\n",
       "      <th>numberFollowing</th>\n",
       "      <th>numberFollowers</th>\n",
       "      <th>multipleImage</th>\n",
       "      <th>aliasNum</th>\n",
       "      <th>ratio</th>\n",
       "      <th>able</th>\n",
       "      <th>account</th>\n",
       "      <th>actually</th>\n",
       "      <th>ad</th>\n",
       "      <th>...</th>\n",
       "      <th>tumblr</th>\n",
       "      <th>facebook</th>\n",
       "      <th>twitter</th>\n",
       "      <th>other</th>\n",
       "      <th>mon</th>\n",
       "      <th>tue</th>\n",
       "      <th>wed</th>\n",
       "      <th>thu</th>\n",
       "      <th>fri</th>\n",
       "      <th>sat</th>\n",
       "    </tr>\n",
       "  </thead>\n",
       "  <tbody>\n",
       "    <tr>\n",
       "      <th>count</th>\n",
       "      <td>12680.00</td>\n",
       "      <td>12680.00</td>\n",
       "      <td>12680.00</td>\n",
       "      <td>12680.00</td>\n",
       "      <td>12680.00</td>\n",
       "      <td>12680.00</td>\n",
       "      <td>12680.00</td>\n",
       "      <td>12680.00</td>\n",
       "      <td>12680.00</td>\n",
       "      <td>12680.00</td>\n",
       "      <td>...</td>\n",
       "      <td>12680.00</td>\n",
       "      <td>12680.00</td>\n",
       "      <td>12680.00</td>\n",
       "      <td>12680.00</td>\n",
       "      <td>12680.00</td>\n",
       "      <td>12680.00</td>\n",
       "      <td>12680.00</td>\n",
       "      <td>12680.00</td>\n",
       "      <td>12680.00</td>\n",
       "      <td>12680.00</td>\n",
       "    </tr>\n",
       "    <tr>\n",
       "      <th>mean</th>\n",
       "      <td>1941.02</td>\n",
       "      <td>3026.48</td>\n",
       "      <td>362515.26</td>\n",
       "      <td>0.03</td>\n",
       "      <td>479.80</td>\n",
       "      <td>8306.70</td>\n",
       "      <td>0.01</td>\n",
       "      <td>0.01</td>\n",
       "      <td>0.01</td>\n",
       "      <td>0.02</td>\n",
       "      <td>...</td>\n",
       "      <td>0.00</td>\n",
       "      <td>0.04</td>\n",
       "      <td>0.00</td>\n",
       "      <td>0.88</td>\n",
       "      <td>0.11</td>\n",
       "      <td>0.13</td>\n",
       "      <td>0.14</td>\n",
       "      <td>0.15</td>\n",
       "      <td>0.14</td>\n",
       "      <td>0.15</td>\n",
       "    </tr>\n",
       "    <tr>\n",
       "      <th>std</th>\n",
       "      <td>2007.64</td>\n",
       "      <td>67258.90</td>\n",
       "      <td>227120.79</td>\n",
       "      <td>0.17</td>\n",
       "      <td>281.63</td>\n",
       "      <td>9335.25</td>\n",
       "      <td>0.08</td>\n",
       "      <td>0.09</td>\n",
       "      <td>0.08</td>\n",
       "      <td>0.12</td>\n",
       "      <td>...</td>\n",
       "      <td>0.04</td>\n",
       "      <td>0.21</td>\n",
       "      <td>0.05</td>\n",
       "      <td>0.32</td>\n",
       "      <td>0.32</td>\n",
       "      <td>0.34</td>\n",
       "      <td>0.35</td>\n",
       "      <td>0.36</td>\n",
       "      <td>0.35</td>\n",
       "      <td>0.35</td>\n",
       "    </tr>\n",
       "    <tr>\n",
       "      <th>min</th>\n",
       "      <td>15.00</td>\n",
       "      <td>0.00</td>\n",
       "      <td>124965.00</td>\n",
       "      <td>0.00</td>\n",
       "      <td>0.00</td>\n",
       "      <td>110.87</td>\n",
       "      <td>0.00</td>\n",
       "      <td>0.00</td>\n",
       "      <td>0.00</td>\n",
       "      <td>0.00</td>\n",
       "      <td>...</td>\n",
       "      <td>0.00</td>\n",
       "      <td>0.00</td>\n",
       "      <td>0.00</td>\n",
       "      <td>0.00</td>\n",
       "      <td>0.00</td>\n",
       "      <td>0.00</td>\n",
       "      <td>0.00</td>\n",
       "      <td>0.00</td>\n",
       "      <td>0.00</td>\n",
       "      <td>0.00</td>\n",
       "    </tr>\n",
       "    <tr>\n",
       "      <th>25%</th>\n",
       "      <td>722.00</td>\n",
       "      <td>202.00</td>\n",
       "      <td>180286.00</td>\n",
       "      <td>0.00</td>\n",
       "      <td>239.00</td>\n",
       "      <td>2882.18</td>\n",
       "      <td>0.00</td>\n",
       "      <td>0.00</td>\n",
       "      <td>0.00</td>\n",
       "      <td>0.00</td>\n",
       "      <td>...</td>\n",
       "      <td>0.00</td>\n",
       "      <td>0.00</td>\n",
       "      <td>0.00</td>\n",
       "      <td>1.00</td>\n",
       "      <td>0.00</td>\n",
       "      <td>0.00</td>\n",
       "      <td>0.00</td>\n",
       "      <td>0.00</td>\n",
       "      <td>0.00</td>\n",
       "      <td>0.00</td>\n",
       "    </tr>\n",
       "    <tr>\n",
       "      <th>50%</th>\n",
       "      <td>1369.00</td>\n",
       "      <td>405.00</td>\n",
       "      <td>283490.00</td>\n",
       "      <td>0.00</td>\n",
       "      <td>477.00</td>\n",
       "      <td>5448.00</td>\n",
       "      <td>0.00</td>\n",
       "      <td>0.00</td>\n",
       "      <td>0.00</td>\n",
       "      <td>0.00</td>\n",
       "      <td>...</td>\n",
       "      <td>0.00</td>\n",
       "      <td>0.00</td>\n",
       "      <td>0.00</td>\n",
       "      <td>1.00</td>\n",
       "      <td>0.00</td>\n",
       "      <td>0.00</td>\n",
       "      <td>0.00</td>\n",
       "      <td>0.00</td>\n",
       "      <td>0.00</td>\n",
       "      <td>0.00</td>\n",
       "    </tr>\n",
       "    <tr>\n",
       "      <th>75%</th>\n",
       "      <td>2566.00</td>\n",
       "      <td>656.00</td>\n",
       "      <td>493550.00</td>\n",
       "      <td>0.00</td>\n",
       "      <td>726.00</td>\n",
       "      <td>10379.94</td>\n",
       "      <td>0.00</td>\n",
       "      <td>0.00</td>\n",
       "      <td>0.00</td>\n",
       "      <td>0.00</td>\n",
       "      <td>...</td>\n",
       "      <td>0.00</td>\n",
       "      <td>0.00</td>\n",
       "      <td>0.00</td>\n",
       "      <td>1.00</td>\n",
       "      <td>0.00</td>\n",
       "      <td>0.00</td>\n",
       "      <td>0.00</td>\n",
       "      <td>0.00</td>\n",
       "      <td>0.00</td>\n",
       "      <td>0.00</td>\n",
       "    </tr>\n",
       "    <tr>\n",
       "      <th>max</th>\n",
       "      <td>19590.00</td>\n",
       "      <td>1838511.00</td>\n",
       "      <td>996578.00</td>\n",
       "      <td>1.00</td>\n",
       "      <td>971.00</td>\n",
       "      <td>120681.47</td>\n",
       "      <td>2.00</td>\n",
       "      <td>2.00</td>\n",
       "      <td>2.00</td>\n",
       "      <td>3.00</td>\n",
       "      <td>...</td>\n",
       "      <td>1.00</td>\n",
       "      <td>1.00</td>\n",
       "      <td>1.00</td>\n",
       "      <td>1.00</td>\n",
       "      <td>1.00</td>\n",
       "      <td>1.00</td>\n",
       "      <td>1.00</td>\n",
       "      <td>1.00</td>\n",
       "      <td>1.00</td>\n",
       "      <td>1.00</td>\n",
       "    </tr>\n",
       "  </tbody>\n",
       "</table>\n",
       "<p>8 rows × 518 columns</p>\n",
       "</div>"
      ],
      "text/plain": [
       "       numberPosts  numberFollowing  numberFollowers  multipleImage  aliasNum  \\\n",
       "count     12680.00         12680.00         12680.00       12680.00  12680.00   \n",
       "mean       1941.02          3026.48        362515.26           0.03    479.80   \n",
       "std        2007.64         67258.90        227120.79           0.17    281.63   \n",
       "min          15.00             0.00        124965.00           0.00      0.00   \n",
       "25%         722.00           202.00        180286.00           0.00    239.00   \n",
       "50%        1369.00           405.00        283490.00           0.00    477.00   \n",
       "75%        2566.00           656.00        493550.00           0.00    726.00   \n",
       "max       19590.00       1838511.00        996578.00           1.00    971.00   \n",
       "\n",
       "          ratio     able  account  actually       ad   ...      tumblr  \\\n",
       "count  12680.00 12680.00 12680.00  12680.00 12680.00   ...    12680.00   \n",
       "mean    8306.70     0.01     0.01      0.01     0.02   ...        0.00   \n",
       "std     9335.25     0.08     0.09      0.08     0.12   ...        0.04   \n",
       "min      110.87     0.00     0.00      0.00     0.00   ...        0.00   \n",
       "25%     2882.18     0.00     0.00      0.00     0.00   ...        0.00   \n",
       "50%     5448.00     0.00     0.00      0.00     0.00   ...        0.00   \n",
       "75%    10379.94     0.00     0.00      0.00     0.00   ...        0.00   \n",
       "max   120681.47     2.00     2.00      2.00     3.00   ...        1.00   \n",
       "\n",
       "       facebook  twitter    other      mon      tue      wed      thu  \\\n",
       "count  12680.00 12680.00 12680.00 12680.00 12680.00 12680.00 12680.00   \n",
       "mean       0.04     0.00     0.88     0.11     0.13     0.14     0.15   \n",
       "std        0.21     0.05     0.32     0.32     0.34     0.35     0.36   \n",
       "min        0.00     0.00     0.00     0.00     0.00     0.00     0.00   \n",
       "25%        0.00     0.00     1.00     0.00     0.00     0.00     0.00   \n",
       "50%        0.00     0.00     1.00     0.00     0.00     0.00     0.00   \n",
       "75%        0.00     0.00     1.00     0.00     0.00     0.00     0.00   \n",
       "max        1.00     1.00     1.00     1.00     1.00     1.00     1.00   \n",
       "\n",
       "           fri      sat  \n",
       "count 12680.00 12680.00  \n",
       "mean      0.14     0.15  \n",
       "std       0.35     0.35  \n",
       "min       0.00     0.00  \n",
       "25%       0.00     0.00  \n",
       "50%       0.00     0.00  \n",
       "75%       0.00     0.00  \n",
       "max       1.00     1.00  \n",
       "\n",
       "[8 rows x 518 columns]"
      ]
     },
     "execution_count": 24,
     "metadata": {},
     "output_type": "execute_result"
    }
   ],
   "source": [
    "modified.describe()"
   ]
  },
  {
   "cell_type": "markdown",
   "metadata": {},
   "source": [
    "# Split train and test dataset"
   ]
  },
  {
   "cell_type": "code",
   "execution_count": 161,
   "metadata": {
    "collapsed": false
   },
   "outputs": [],
   "source": [
    "X_train, X_test, y_train, y_test = train_test_split(modified, y, test_size=0.2, random_state=0)"
   ]
  },
  {
   "cell_type": "markdown",
   "metadata": {},
   "source": [
    "# XGB"
   ]
  },
  {
   "cell_type": "code",
   "execution_count": 189,
   "metadata": {
    "collapsed": false
   },
   "outputs": [
    {
     "name": "stdout",
     "output_type": "stream",
     "text": [
      "3262.93110929\n"
     ]
    }
   ],
   "source": [
    "model_xgb = xgb.XGBRegressor(max_depth=4, learning_rate=0.01, n_estimators=596)\n",
    "model_xgb.fit(X_train, y_train)\n",
    "y_pred = model_xgb.predict(X_test)\n",
    "RMSE = mean_squared_error(y_test, y_pred)**0.5\n",
    "print(RMSE)"
   ]
  },
  {
   "cell_type": "code",
   "execution_count": 190,
   "metadata": {
    "collapsed": false
   },
   "outputs": [
    {
     "data": {
      "text/plain": [
       "0.82259649646716704"
      ]
     },
     "execution_count": 190,
     "metadata": {},
     "output_type": "execute_result"
    }
   ],
   "source": [
    "model_xgb.score(X_test,y_test)"
   ]
  },
  {
   "cell_type": "code",
   "execution_count": 191,
   "metadata": {
    "collapsed": false,
    "scrolled": true
   },
   "outputs": [
    {
     "data": {
      "text/plain": [
       "<matplotlib.axes._subplots.AxesSubplot at 0x7f9e9b084a58>"
      ]
     },
     "execution_count": 191,
     "metadata": {},
     "output_type": "execute_result"
    },
    {
     "data": {
      "image/png": "[encoded data removed]",
      "text/plain": [
       "<matplotlib.figure.Figure at 0x7f9e99fd2b00>"
      ]
     },
     "metadata": {},
     "output_type": "display_data"
    }
   ],
   "source": [
    "xgb.plot_importance(model_xgb, importance_type='weight') # weight, gain or cover"
   ]
  },
  {
   "cell_type": "code",
   "execution_count": 152,
   "metadata": {
    "collapsed": false
   },
   "outputs": [],
   "source": [
    "vec = model_xgb.feature_importances_"
   ]
  },
  {
   "cell_type": "code",
   "execution_count": 153,
   "metadata": {
    "collapsed": false
   },
   "outputs": [
    {
     "data": {
      "text/plain": [
       "array([  4.66951244e-02,   1.44871296e-02,   2.25067902e-02,\n",
       "         2.06959005e-02,   2.04372015e-02,   4.04346138e-01,\n",
       "         0.00000000e+00,   3.36308358e-03,   1.03479496e-03,\n",
       "         7.11421529e-03,   7.89031200e-03,   0.00000000e+00,\n",
       "         6.85551669e-03,   0.00000000e+00,   1.29349370e-04,\n",
       "         3.88048124e-04,   0.00000000e+00,   2.58698739e-04,\n",
       "         0.00000000e+00,   0.00000000e+00,   0.00000000e+00,\n",
       "         3.88048124e-04,   1.81089118e-02,   1.37110334e-02,\n",
       "         0.00000000e+00,   0.00000000e+00,   0.00000000e+00,\n",
       "         0.00000000e+00,   1.29349370e-04,   0.00000000e+00,\n",
       "         7.76096247e-04,   0.00000000e+00,   3.88048124e-04,\n",
       "         0.00000000e+00,   0.00000000e+00,   0.00000000e+00,\n",
       "         1.22881904e-02,   0.00000000e+00,   1.29349370e-04,\n",
       "         9.05445602e-04,   0.00000000e+00,   4.78592701e-03,\n",
       "         5.17397479e-04,   1.68154179e-03,   0.00000000e+00,\n",
       "         0.00000000e+00,   2.71633686e-03,   0.00000000e+00,\n",
       "         2.58698757e-03,   0.00000000e+00,   0.00000000e+00,\n",
       "         0.00000000e+00,   0.00000000e+00,   0.00000000e+00,\n",
       "         9.05445602e-04,   0.00000000e+00,   0.00000000e+00,\n",
       "         1.29349378e-03,   0.00000000e+00,   0.00000000e+00,\n",
       "         1.29349370e-04,   0.00000000e+00,   0.00000000e+00,\n",
       "         0.00000000e+00,   5.95007092e-03,   0.00000000e+00,\n",
       "         1.55219249e-03,   0.00000000e+00,   0.00000000e+00,\n",
       "         0.00000000e+00,   0.00000000e+00,   0.00000000e+00,\n",
       "         7.76096247e-04,   0.00000000e+00,   0.00000000e+00,\n",
       "         7.24356482e-03,   4.78592701e-03,   1.09946970e-02,\n",
       "         4.65657748e-03,   0.00000000e+00,   0.00000000e+00,\n",
       "         0.00000000e+00,   0.00000000e+00,   0.00000000e+00,\n",
       "         9.05445602e-04,   0.00000000e+00,   0.00000000e+00,\n",
       "         6.46746892e-04,   0.00000000e+00,   2.71633686e-03,\n",
       "         0.00000000e+00,   0.00000000e+00,   0.00000000e+00,\n",
       "         5.17397479e-04,   0.00000000e+00,   1.81089120e-03,\n",
       "         3.88048124e-04,   0.00000000e+00,   1.55219249e-03,\n",
       "         0.00000000e+00,   2.58698757e-03,   0.00000000e+00,\n",
       "         5.17397479e-04,   0.00000000e+00,   0.00000000e+00,\n",
       "         0.00000000e+00,   1.03479496e-03,   0.00000000e+00,\n",
       "         0.00000000e+00,   1.03479496e-03,   0.00000000e+00,\n",
       "         0.00000000e+00,   0.00000000e+00,   0.00000000e+00,\n",
       "         0.00000000e+00,   0.00000000e+00,   0.00000000e+00,\n",
       "         2.97503546e-03,   8.40770919e-03,   0.00000000e+00,\n",
       "         0.00000000e+00,   8.14901013e-03,   1.29349370e-04,\n",
       "         0.00000000e+00,   7.11421529e-03,   0.00000000e+00,\n",
       "         0.00000000e+00,   0.00000000e+00,   0.00000000e+00,\n",
       "         0.00000000e+00,   5.17397514e-03,   0.00000000e+00,\n",
       "         0.00000000e+00,   0.00000000e+00,   0.00000000e+00,\n",
       "         0.00000000e+00,   1.42284308e-03,   0.00000000e+00,\n",
       "         9.95990168e-03,   0.00000000e+00,   2.71633686e-03,\n",
       "         1.29349378e-03,   0.00000000e+00,   0.00000000e+00,\n",
       "         0.00000000e+00,   0.00000000e+00,   0.00000000e+00,\n",
       "         0.00000000e+00,   0.00000000e+00,   0.00000000e+00,\n",
       "         0.00000000e+00,   0.00000000e+00,   0.00000000e+00,\n",
       "         0.00000000e+00,   0.00000000e+00,   0.00000000e+00,\n",
       "         2.71633686e-03,   0.00000000e+00,   0.00000000e+00,\n",
       "         0.00000000e+00,   0.00000000e+00,   1.68154179e-03,\n",
       "         0.00000000e+00,   0.00000000e+00,   3.88048124e-04,\n",
       "         0.00000000e+00,   1.29349370e-04,   0.00000000e+00,\n",
       "         3.88048124e-04,   0.00000000e+00,   0.00000000e+00,\n",
       "         0.00000000e+00,   0.00000000e+00,   9.05445602e-04,\n",
       "         0.00000000e+00,   0.00000000e+00,   3.75113171e-03,\n",
       "         0.00000000e+00,   2.19893944e-03,   1.34523343e-02,\n",
       "         0.00000000e+00,   0.00000000e+00,   3.36308358e-03,\n",
       "         0.00000000e+00,   2.45763804e-03,   3.23373429e-03,\n",
       "         0.00000000e+00,   0.00000000e+00,   0.00000000e+00,\n",
       "         0.00000000e+00,   0.00000000e+00,   1.81089120e-03,\n",
       "         0.00000000e+00,   1.16414437e-03,   0.00000000e+00,\n",
       "         0.00000000e+00,   0.00000000e+00,   0.00000000e+00,\n",
       "         0.00000000e+00,   0.00000000e+00,   1.29349370e-04,\n",
       "         0.00000000e+00,   0.00000000e+00,   0.00000000e+00,\n",
       "         3.23373429e-03,   0.00000000e+00,   0.00000000e+00,\n",
       "         0.00000000e+00,   0.00000000e+00,   0.00000000e+00,\n",
       "         0.00000000e+00,   0.00000000e+00,   0.00000000e+00,\n",
       "         0.00000000e+00,   0.00000000e+00,   0.00000000e+00,\n",
       "         0.00000000e+00,   0.00000000e+00,   0.00000000e+00,\n",
       "         0.00000000e+00,   0.00000000e+00,   0.00000000e+00,\n",
       "         1.29349370e-04,   0.00000000e+00,   0.00000000e+00,\n",
       "         6.46746892e-04,   0.00000000e+00,   0.00000000e+00,\n",
       "         0.00000000e+00,   0.00000000e+00,   0.00000000e+00,\n",
       "         0.00000000e+00,   0.00000000e+00,   0.00000000e+00,\n",
       "         0.00000000e+00,   0.00000000e+00,   2.58698739e-04,\n",
       "         2.84568616e-03,   0.00000000e+00,   0.00000000e+00,\n",
       "         0.00000000e+00,   0.00000000e+00,   0.00000000e+00,\n",
       "         1.29349370e-04,   0.00000000e+00,   1.29349370e-04,\n",
       "         0.00000000e+00,   0.00000000e+00,   1.25468895e-02,\n",
       "         0.00000000e+00,   0.00000000e+00,   0.00000000e+00,\n",
       "         0.00000000e+00,   0.00000000e+00,   0.00000000e+00,\n",
       "         0.00000000e+00,   0.00000000e+00,   1.12533951e-02,\n",
       "         0.00000000e+00,   0.00000000e+00,   0.00000000e+00,\n",
       "         2.58698757e-03,   0.00000000e+00,   0.00000000e+00,\n",
       "         0.00000000e+00,   1.46164792e-02,   0.00000000e+00,\n",
       "         0.00000000e+00,   0.00000000e+00,   1.25468895e-02,\n",
       "         0.00000000e+00,   0.00000000e+00,   0.00000000e+00,\n",
       "         0.00000000e+00,   6.98486622e-03,   0.00000000e+00,\n",
       "         0.00000000e+00,   0.00000000e+00,   0.00000000e+00,\n",
       "         0.00000000e+00,   0.00000000e+00,   0.00000000e+00,\n",
       "         0.00000000e+00,   0.00000000e+00,   9.05445602e-04,\n",
       "         0.00000000e+00,   0.00000000e+00,   4.26852936e-03,\n",
       "         0.00000000e+00,   0.00000000e+00,   5.17397479e-04,\n",
       "         1.29349370e-04,   0.00000000e+00,   0.00000000e+00,\n",
       "         0.00000000e+00,   0.00000000e+00,   0.00000000e+00,\n",
       "         1.16414437e-03,   0.00000000e+00,   1.42284308e-03,\n",
       "         0.00000000e+00,   1.42284308e-03,   9.70120262e-03,\n",
       "         0.00000000e+00,   0.00000000e+00,   1.29349378e-03,\n",
       "         0.00000000e+00,   5.17397479e-04,   3.88048124e-04,\n",
       "         0.00000000e+00,   0.00000000e+00,   0.00000000e+00,\n",
       "         0.00000000e+00,   0.00000000e+00,   0.00000000e+00,\n",
       "         0.00000000e+00,   0.00000000e+00,   0.00000000e+00,\n",
       "         0.00000000e+00,   0.00000000e+00,   0.00000000e+00,\n",
       "         0.00000000e+00,   0.00000000e+00,   0.00000000e+00,\n",
       "         0.00000000e+00,   0.00000000e+00,   0.00000000e+00,\n",
       "         3.49243311e-03,   1.29349378e-03,   0.00000000e+00,\n",
       "         0.00000000e+00,   0.00000000e+00,   0.00000000e+00,\n",
       "         0.00000000e+00,   0.00000000e+00,   1.94024062e-03,\n",
       "         0.00000000e+00,   0.00000000e+00,   0.00000000e+00,\n",
       "         0.00000000e+00,   0.00000000e+00,   0.00000000e+00,\n",
       "         0.00000000e+00,   0.00000000e+00,   2.58698739e-04,\n",
       "         9.83055215e-03,   6.46746857e-03,   0.00000000e+00,\n",
       "         0.00000000e+00,   0.00000000e+00,   3.36308358e-03,\n",
       "         0.00000000e+00,   0.00000000e+00,   0.00000000e+00,\n",
       "         7.76096247e-04,   0.00000000e+00,   0.00000000e+00,\n",
       "         0.00000000e+00,   0.00000000e+00,   1.29349370e-04,\n",
       "         0.00000000e+00,   0.00000000e+00,   0.00000000e+00,\n",
       "         0.00000000e+00,   6.46746892e-04,   0.00000000e+00,\n",
       "         0.00000000e+00,   7.76096247e-04,   0.00000000e+00,\n",
       "         0.00000000e+00,   0.00000000e+00,   0.00000000e+00,\n",
       "         0.00000000e+00,   0.00000000e+00,   0.00000000e+00,\n",
       "         0.00000000e+00,   0.00000000e+00,   0.00000000e+00,\n",
       "         2.58698757e-03,   0.00000000e+00,   0.00000000e+00,\n",
       "         0.00000000e+00,   0.00000000e+00,   0.00000000e+00,\n",
       "         0.00000000e+00,   0.00000000e+00,   0.00000000e+00,\n",
       "         0.00000000e+00,   0.00000000e+00,   0.00000000e+00,\n",
       "         0.00000000e+00,   2.45763804e-03,   0.00000000e+00,\n",
       "         0.00000000e+00,   0.00000000e+00,   0.00000000e+00,\n",
       "         0.00000000e+00,   0.00000000e+00,   0.00000000e+00,\n",
       "         0.00000000e+00,   0.00000000e+00,   0.00000000e+00,\n",
       "         4.91527608e-03,   0.00000000e+00,   4.78592701e-03,\n",
       "         0.00000000e+00,   0.00000000e+00,   1.42284308e-03,\n",
       "         0.00000000e+00,   0.00000000e+00,   0.00000000e+00,\n",
       "         1.81089120e-03,   0.00000000e+00,   0.00000000e+00,\n",
       "         2.58698739e-04,   0.00000000e+00,   0.00000000e+00,\n",
       "         0.00000000e+00,   0.00000000e+00,   3.88048124e-04,\n",
       "         0.00000000e+00,   0.00000000e+00,   2.58698739e-04,\n",
       "         1.20294914e-02,   0.00000000e+00,   0.00000000e+00,\n",
       "         0.00000000e+00,   3.88048124e-04,   0.00000000e+00,\n",
       "         2.84568616e-03,   0.00000000e+00,   0.00000000e+00,\n",
       "         1.25468895e-02,   5.17397479e-04,   1.55219249e-03,\n",
       "         0.00000000e+00,   0.00000000e+00,   0.00000000e+00,\n",
       "         0.00000000e+00,   1.16414437e-03,   0.00000000e+00,\n",
       "         1.29349370e-04,   0.00000000e+00,   6.72616716e-03,\n",
       "         2.58698739e-04,   0.00000000e+00,   0.00000000e+00,\n",
       "         0.00000000e+00,   0.00000000e+00,   0.00000000e+00,\n",
       "         0.00000000e+00,   0.00000000e+00,   4.00983077e-03,\n",
       "         0.00000000e+00,   0.00000000e+00,   2.58698739e-04,\n",
       "         0.00000000e+00,   0.00000000e+00,   0.00000000e+00,\n",
       "         0.00000000e+00,   0.00000000e+00,   0.00000000e+00,\n",
       "         1.55219249e-03,   0.00000000e+00,   0.00000000e+00,\n",
       "         0.00000000e+00,   0.00000000e+00,   0.00000000e+00,\n",
       "         1.16414437e-03,   0.00000000e+00,   0.00000000e+00,\n",
       "         3.88048124e-04,   0.00000000e+00,   2.06958991e-03,\n",
       "         0.00000000e+00,   8.40770919e-03,   0.00000000e+00,\n",
       "         0.00000000e+00,   0.00000000e+00,   0.00000000e+00,\n",
       "         0.00000000e+00,   0.00000000e+00,   1.29349370e-04,\n",
       "         0.00000000e+00,   0.00000000e+00,   0.00000000e+00,\n",
       "         0.00000000e+00,   0.00000000e+00,   0.00000000e+00,\n",
       "         0.00000000e+00,   4.13917983e-03,   0.00000000e+00,\n",
       "         0.00000000e+00,   0.00000000e+00,   0.00000000e+00,\n",
       "         3.10438499e-03,   0.00000000e+00,   9.05445602e-04,\n",
       "         0.00000000e+00,   1.16414437e-03,   0.00000000e+00,\n",
       "         0.00000000e+00,   0.00000000e+00,   0.00000000e+00,\n",
       "         3.88048124e-03,   0.00000000e+00,   1.29349370e-04,\n",
       "         0.00000000e+00,   0.00000000e+00,   0.00000000e+00,\n",
       "         1.16414437e-03,   0.00000000e+00,   6.46746857e-03,\n",
       "         6.98486622e-03,   1.74621660e-02,   1.68154179e-03,\n",
       "         3.75113171e-03,   3.10438499e-03], dtype=float32)"
      ]
     },
     "execution_count": 153,
     "metadata": {},
     "output_type": "execute_result"
    }
   ],
   "source": [
    "vec"
   ]
  },
  {
   "cell_type": "code",
   "execution_count": 192,
   "metadata": {
    "collapsed": false
   },
   "outputs": [
    {
     "name": "stdout",
     "output_type": "stream",
     "text": [
      "0\n",
      "1\n",
      "2\n",
      "3\n",
      "4\n",
      "5\n",
      "22\n",
      "23\n",
      "36\n",
      "77\n",
      "179\n",
      "248\n",
      "257\n",
      "265\n",
      "269\n",
      "423\n",
      "432\n",
      "514\n"
     ]
    }
   ],
   "source": [
    "for i in range(len(vec)):\n",
    "    if vec[i] > 0.01:\n",
    "        print(i)"
   ]
  },
  {
   "cell_type": "markdown",
   "metadata": {},
   "source": [
    "### True vs pred"
   ]
  },
  {
   "cell_type": "code",
   "execution_count": 196,
   "metadata": {
    "collapsed": false
   },
   "outputs": [
    {
     "data": {
      "text/plain": [
       "<matplotlib.collections.PathCollection at 0x7f9e9a382278>"
      ]
     },
     "execution_count": 196,
     "metadata": {},
     "output_type": "execute_result"
    },
    {
     "data": {
      "image/png": "[encoded data removed]",
      "text/plain": [
       "<matplotlib.figure.Figure at 0x7f9e9a452908>"
      ]
     },
     "metadata": {},
     "output_type": "display_data"
    }
   ],
   "source": [
    "plt.scatter(y_test, y_pred)\n",
    "#plt.xlim(0, 40000)\n",
    "#plt.ylim(0, 60000)"
   ]
  },
  {
   "cell_type": "code",
   "execution_count": 197,
   "metadata": {
    "collapsed": false,
    "scrolled": true
   },
   "outputs": [
    {
     "data": {
      "text/plain": [
       "<matplotlib.collections.PathCollection at 0x7f9e9a466898>"
      ]
     },
     "execution_count": 197,
     "metadata": {},
     "output_type": "execute_result"
    },
    {
     "data": {
      "image/png": "[encoded data removed]",
      "text/plain": [
       "<matplotlib.figure.Figure at 0x7f9e9a3a2668>"
      ]
     },
     "metadata": {},
     "output_type": "display_data"
    }
   ],
   "source": [
    "plt.scatter(y_test, X_test['ratio'])\n",
    "#plt.xlim(0, 40000)\n",
    "#plt.ylim(0, 60000)"
   ]
  },
  {
   "cell_type": "code",
   "execution_count": 158,
   "metadata": {
    "collapsed": false
   },
   "outputs": [
    {
     "name": "stdout",
     "output_type": "stream",
     "text": [
      "3507.03488338\n"
     ]
    }
   ],
   "source": [
    "RMSE = mean_squared_error(y_test, X_test['ratio'])**0.5\n",
    "print(RMSE)"
   ]
  },
  {
   "cell_type": "markdown",
   "metadata": {},
   "source": [
    "### Test vs residuals"
   ]
  },
  {
   "cell_type": "code",
   "execution_count": 127,
   "metadata": {
    "collapsed": false
   },
   "outputs": [
    {
     "data": {
      "text/plain": [
       "<matplotlib.collections.PathCollection at 0x7f9e9ac389e8>"
      ]
     },
     "execution_count": 127,
     "metadata": {},
     "output_type": "execute_result"
    },
    {
     "data": {
      "image/png": "[encoded data removed]",
      "text/plain": [
       "<matplotlib.figure.Figure at 0x7f9e9a5f6470>"
      ]
     },
     "metadata": {},
     "output_type": "display_data"
    }
   ],
   "source": [
    "plt.scatter(y_test, abs(y_pred-y_test))"
   ]
  },
  {
   "cell_type": "code",
   "execution_count": 149,
   "metadata": {
    "collapsed": false
   },
   "outputs": [],
   "source": [
    "true = pd.DataFrame(y_test)\n",
    "pred = pd.DataFrame(y_pred)"
   ]
  },
  {
   "cell_type": "code",
   "execution_count": 150,
   "metadata": {
    "collapsed": true
   },
   "outputs": [],
   "source": [
    "true = true.reset_index(drop=True)"
   ]
  },
  {
   "cell_type": "code",
   "execution_count": 151,
   "metadata": {
    "collapsed": false
   },
   "outputs": [
    {
     "data": {
      "text/plain": [
       "Int64Index([   1,    5,    6,    7,    8,   11,   12,   13,   17,   20,\n",
       "            ...\n",
       "            3215, 3216, 3217, 3219, 3220, 3222, 3224, 3225, 3227, 3229],\n",
       "           dtype='int64', length=1978)"
      ]
     },
     "execution_count": 151,
     "metadata": {},
     "output_type": "execute_result"
    }
   ],
   "source": [
    "true[(true<10000).values].index"
   ]
  },
  {
   "cell_type": "code",
   "execution_count": 152,
   "metadata": {
    "collapsed": false
   },
   "outputs": [],
   "source": [
    "subTrue = true[(true<10000).values]"
   ]
  },
  {
   "cell_type": "code",
   "execution_count": 153,
   "metadata": {
    "collapsed": false
   },
   "outputs": [],
   "source": [
    "subPred = pred.ix[true[(true<10000).values].index]"
   ]
  },
  {
   "cell_type": "code",
   "execution_count": 155,
   "metadata": {
    "collapsed": false
   },
   "outputs": [
    {
     "data": {
      "text/plain": [
       "(0, 10000)"
      ]
     },
     "execution_count": 155,
     "metadata": {},
     "output_type": "execute_result"
    },
    {
     "data": {
      "image/png": "[encoded data removed]",
      "text/plain": [
       "<matplotlib.figure.Figure at 0x7f85d31bd978>"
      ]
     },
     "metadata": {},
     "output_type": "display_data"
    }
   ],
   "source": [
    "plt.scatter(subTrue,subPred)\n",
    "plt.ylim(0, 10000)"
   ]
  },
  {
   "cell_type": "code",
   "execution_count": 162,
   "metadata": {
    "collapsed": true
   },
   "outputs": [],
   "source": [
    "def score(params):\n",
    "    global best2\n",
    "    global count\n",
    "    count=count+1\n",
    "    print(count)\n",
    "    num_round = int(params['n_estimators'])\n",
    "    del(params['n_estimators'])\n",
    "    #params['n_estimators']=num_round\n",
    "    dtrain = xgb.DMatrix(X_train, label=y_train)\n",
    "    dvalid = xgb.DMatrix(X_test, label=y_test)\n",
    "    model = xgb.train(params, dtrain, num_round)\n",
    "    predictions = model.predict(dvalid)\n",
    "    score = mean_squared_error(y_test, predictions)**0.5\n",
    "    \n",
    "    if (score<best2):\n",
    "        best2=score\n",
    "        print(params)\n",
    "        print(num_round)\n",
    "        print(\"\\tScore {0}\\n\\n\".format(score))\n",
    "    return {'loss': score, 'status': STATUS_OK}"
   ]
  },
  {
   "cell_type": "code",
   "execution_count": 165,
   "metadata": {
    "collapsed": true
   },
   "outputs": [],
   "source": [
    "def optimize():\n",
    "    space = {\n",
    "             'n_estimators' : hp.quniform('n_estimators', 100, 1000, 1),\n",
    "             'learning_rate' : hp.quniform('learning_rate', 0.01, 0.2, 0.01),\n",
    "             'max_depth' : hp.choice('max_depth', np.arange(3, 4, dtype=int)),\n",
    "             #'min_child_weight' : hp.quniform('min_child_weight', 1, 4, 1),\n",
    "            #'subsample' : hp.quniform('subsample', 0.6, 0.9, 0.05),\n",
    "            # 'gamma' : hp.quniform('gamma', 0.6, 0.8, 0.05),\n",
    "            #'colsample_bytree' : hp.quniform('colsample_bytree', 0.7, 1, 0.05),\n",
    "              #'reg_alpha' : hp.quniform('reg_alpha', 0.001, 10, 0.01),\n",
    "             #'reg_lambda' : hp.quniform('reg_lambda', 0.001, 10, 0.01),\n",
    "             }\n",
    "\n",
    "    best = fmin(score, space, algo=tpe.suggest, max_evals=50)\n",
    "\n",
    "    print(best)"
   ]
  },
  {
   "cell_type": "code",
   "execution_count": 166,
   "metadata": {
    "collapsed": false,
    "scrolled": true
   },
   "outputs": [
    {
     "name": "stdout",
     "output_type": "stream",
     "text": [
      "1\n",
      "{'max_depth': 3, 'learning_rate': 0.15}\n",
      "257\n",
      "\tScore 3667.8827755100597\n",
      "\n",
      "\n",
      "2\n",
      "3\n",
      "4\n",
      "{'max_depth': 3, 'learning_rate': 0.01}\n",
      "518\n",
      "\tScore 3631.2273271904\n",
      "\n",
      "\n",
      "5\n",
      "6\n",
      "7\n",
      "8\n",
      "9\n",
      "{'max_depth': 3, 'learning_rate': 0.13}\n",
      "108\n",
      "\tScore 3623.3584956195396\n",
      "\n",
      "\n",
      "10\n",
      "11\n",
      "12\n",
      "13\n",
      "14\n",
      "15\n",
      "16\n",
      "17\n",
      "18\n",
      "19\n",
      "{'max_depth': 3, 'learning_rate': 0.1}\n",
      "138\n",
      "\tScore 3620.447529798547\n",
      "\n",
      "\n",
      "20\n",
      "21\n",
      "{'max_depth': 3, 'learning_rate': 0.09}\n",
      "123\n",
      "\tScore 3615.5997506414537\n",
      "\n",
      "\n",
      "22\n",
      "{'max_depth': 3, 'learning_rate': 0.09}\n",
      "159\n",
      "\tScore 3610.8324738235074\n",
      "\n",
      "\n",
      "23\n",
      "24\n",
      "25\n",
      "26\n",
      "27\n",
      "28\n",
      "29\n",
      "30\n",
      "31\n",
      "32\n",
      "33\n",
      "34\n"
     ]
    },
    {
     "ename": "KeyboardInterrupt",
     "evalue": "",
     "output_type": "error",
     "traceback": [
      "\u001b[0;31m---------------------------------------------------------------------------\u001b[0m",
      "\u001b[0;31mKeyboardInterrupt\u001b[0m                         Traceback (most recent call last)",
      "\u001b[0;32m<ipython-input-166-9cd0bd54081b>\u001b[0m in \u001b[0;36m<module>\u001b[0;34m()\u001b[0m\n\u001b[1;32m      1\u001b[0m \u001b[0mbest2\u001b[0m\u001b[0;34m=\u001b[0m\u001b[0;36m100000\u001b[0m\u001b[0;34m\u001b[0m\u001b[0m\n\u001b[1;32m      2\u001b[0m \u001b[0mcount\u001b[0m\u001b[0;34m=\u001b[0m\u001b[0;36m0\u001b[0m\u001b[0;34m\u001b[0m\u001b[0m\n\u001b[0;32m----> 3\u001b[0;31m \u001b[0moptimize\u001b[0m\u001b[0;34m(\u001b[0m\u001b[0;34m)\u001b[0m\u001b[0;34m\u001b[0m\u001b[0m\n\u001b[0m",
      "\u001b[0;32m<ipython-input-165-2a6e1a2613c6>\u001b[0m in \u001b[0;36moptimize\u001b[0;34m()\u001b[0m\n\u001b[1;32m     12\u001b[0m              }\n\u001b[1;32m     13\u001b[0m \u001b[0;34m\u001b[0m\u001b[0m\n\u001b[0;32m---> 14\u001b[0;31m     \u001b[0mbest\u001b[0m \u001b[0;34m=\u001b[0m \u001b[0mfmin\u001b[0m\u001b[0;34m(\u001b[0m\u001b[0mscore\u001b[0m\u001b[0;34m,\u001b[0m \u001b[0mspace\u001b[0m\u001b[0;34m,\u001b[0m \u001b[0malgo\u001b[0m\u001b[0;34m=\u001b[0m\u001b[0mtpe\u001b[0m\u001b[0;34m.\u001b[0m\u001b[0msuggest\u001b[0m\u001b[0;34m,\u001b[0m \u001b[0mmax_evals\u001b[0m\u001b[0;34m=\u001b[0m\u001b[0;36m50\u001b[0m\u001b[0;34m)\u001b[0m\u001b[0;34m\u001b[0m\u001b[0m\n\u001b[0m\u001b[1;32m     15\u001b[0m \u001b[0;34m\u001b[0m\u001b[0m\n\u001b[1;32m     16\u001b[0m     \u001b[0mprint\u001b[0m\u001b[0;34m(\u001b[0m\u001b[0mbest\u001b[0m\u001b[0;34m)\u001b[0m\u001b[0;34m\u001b[0m\u001b[0m\n",
      "\u001b[0;32m/usr/local/lib/python3.5/dist-packages/hyperopt/fmin.py\u001b[0m in \u001b[0;36mfmin\u001b[0;34m(fn, space, algo, max_evals, trials, rstate, allow_trials_fmin, pass_expr_memo_ctrl, catch_eval_exceptions, verbose, return_argmin)\u001b[0m\n\u001b[1;32m    318\u001b[0m                     verbose=verbose)\n\u001b[1;32m    319\u001b[0m     \u001b[0mrval\u001b[0m\u001b[0;34m.\u001b[0m\u001b[0mcatch_eval_exceptions\u001b[0m \u001b[0;34m=\u001b[0m \u001b[0mcatch_eval_exceptions\u001b[0m\u001b[0;34m\u001b[0m\u001b[0m\n\u001b[0;32m--> 320\u001b[0;31m     \u001b[0mrval\u001b[0m\u001b[0;34m.\u001b[0m\u001b[0mexhaust\u001b[0m\u001b[0;34m(\u001b[0m\u001b[0;34m)\u001b[0m\u001b[0;34m\u001b[0m\u001b[0m\n\u001b[0m\u001b[1;32m    321\u001b[0m     \u001b[0;32mif\u001b[0m \u001b[0mreturn_argmin\u001b[0m\u001b[0;34m:\u001b[0m\u001b[0;34m\u001b[0m\u001b[0m\n\u001b[1;32m    322\u001b[0m         \u001b[0;32mreturn\u001b[0m \u001b[0mtrials\u001b[0m\u001b[0;34m.\u001b[0m\u001b[0margmin\u001b[0m\u001b[0;34m\u001b[0m\u001b[0m\n",
      "\u001b[0;32m/usr/local/lib/python3.5/dist-packages/hyperopt/fmin.py\u001b[0m in \u001b[0;36mexhaust\u001b[0;34m(self)\u001b[0m\n\u001b[1;32m    197\u001b[0m     \u001b[0;32mdef\u001b[0m \u001b[0mexhaust\u001b[0m\u001b[0;34m(\u001b[0m\u001b[0mself\u001b[0m\u001b[0;34m)\u001b[0m\u001b[0;34m:\u001b[0m\u001b[0;34m\u001b[0m\u001b[0m\n\u001b[1;32m    198\u001b[0m         \u001b[0mn_done\u001b[0m \u001b[0;34m=\u001b[0m \u001b[0mlen\u001b[0m\u001b[0;34m(\u001b[0m\u001b[0mself\u001b[0m\u001b[0;34m.\u001b[0m\u001b[0mtrials\u001b[0m\u001b[0;34m)\u001b[0m\u001b[0;34m\u001b[0m\u001b[0m\n\u001b[0;32m--> 199\u001b[0;31m         \u001b[0mself\u001b[0m\u001b[0;34m.\u001b[0m\u001b[0mrun\u001b[0m\u001b[0;34m(\u001b[0m\u001b[0mself\u001b[0m\u001b[0;34m.\u001b[0m\u001b[0mmax_evals\u001b[0m \u001b[0;34m-\u001b[0m \u001b[0mn_done\u001b[0m\u001b[0;34m,\u001b[0m \u001b[0mblock_until_done\u001b[0m\u001b[0;34m=\u001b[0m\u001b[0mself\u001b[0m\u001b[0;34m.\u001b[0m\u001b[0masync\u001b[0m\u001b[0;34m)\u001b[0m\u001b[0;34m\u001b[0m\u001b[0m\n\u001b[0m\u001b[1;32m    200\u001b[0m         \u001b[0mself\u001b[0m\u001b[0;34m.\u001b[0m\u001b[0mtrials\u001b[0m\u001b[0;34m.\u001b[0m\u001b[0mrefresh\u001b[0m\u001b[0;34m(\u001b[0m\u001b[0;34m)\u001b[0m\u001b[0;34m\u001b[0m\u001b[0m\n\u001b[1;32m    201\u001b[0m         \u001b[0;32mreturn\u001b[0m \u001b[0mself\u001b[0m\u001b[0;34m\u001b[0m\u001b[0m\n",
      "\u001b[0;32m/usr/local/lib/python3.5/dist-packages/hyperopt/fmin.py\u001b[0m in \u001b[0;36mrun\u001b[0;34m(self, N, block_until_done)\u001b[0m\n\u001b[1;32m    171\u001b[0m             \u001b[0;32melse\u001b[0m\u001b[0;34m:\u001b[0m\u001b[0;34m\u001b[0m\u001b[0m\n\u001b[1;32m    172\u001b[0m                 \u001b[0;31m# -- loop over trials and do the jobs directly\u001b[0m\u001b[0;34m\u001b[0m\u001b[0;34m\u001b[0m\u001b[0m\n\u001b[0;32m--> 173\u001b[0;31m                 \u001b[0mself\u001b[0m\u001b[0;34m.\u001b[0m\u001b[0mserial_evaluate\u001b[0m\u001b[0;34m(\u001b[0m\u001b[0;34m)\u001b[0m\u001b[0;34m\u001b[0m\u001b[0m\n\u001b[0m\u001b[1;32m    174\u001b[0m \u001b[0;34m\u001b[0m\u001b[0m\n\u001b[1;32m    175\u001b[0m             \u001b[0;32mif\u001b[0m \u001b[0mstopped\u001b[0m\u001b[0;34m:\u001b[0m\u001b[0;34m\u001b[0m\u001b[0m\n",
      "\u001b[0;32m/usr/local/lib/python3.5/dist-packages/hyperopt/fmin.py\u001b[0m in \u001b[0;36mserial_evaluate\u001b[0;34m(self, N)\u001b[0m\n\u001b[1;32m     90\u001b[0m                 \u001b[0mctrl\u001b[0m \u001b[0;34m=\u001b[0m \u001b[0mbase\u001b[0m\u001b[0;34m.\u001b[0m\u001b[0mCtrl\u001b[0m\u001b[0;34m(\u001b[0m\u001b[0mself\u001b[0m\u001b[0;34m.\u001b[0m\u001b[0mtrials\u001b[0m\u001b[0;34m,\u001b[0m \u001b[0mcurrent_trial\u001b[0m\u001b[0;34m=\u001b[0m\u001b[0mtrial\u001b[0m\u001b[0;34m)\u001b[0m\u001b[0;34m\u001b[0m\u001b[0m\n\u001b[1;32m     91\u001b[0m                 \u001b[0;32mtry\u001b[0m\u001b[0;34m:\u001b[0m\u001b[0;34m\u001b[0m\u001b[0m\n\u001b[0;32m---> 92\u001b[0;31m                     \u001b[0mresult\u001b[0m \u001b[0;34m=\u001b[0m \u001b[0mself\u001b[0m\u001b[0;34m.\u001b[0m\u001b[0mdomain\u001b[0m\u001b[0;34m.\u001b[0m\u001b[0mevaluate\u001b[0m\u001b[0;34m(\u001b[0m\u001b[0mspec\u001b[0m\u001b[0;34m,\u001b[0m \u001b[0mctrl\u001b[0m\u001b[0;34m)\u001b[0m\u001b[0;34m\u001b[0m\u001b[0m\n\u001b[0m\u001b[1;32m     93\u001b[0m                 \u001b[0;32mexcept\u001b[0m \u001b[0mException\u001b[0m \u001b[0;32mas\u001b[0m \u001b[0me\u001b[0m\u001b[0;34m:\u001b[0m\u001b[0;34m\u001b[0m\u001b[0m\n\u001b[1;32m     94\u001b[0m                     \u001b[0mlogger\u001b[0m\u001b[0;34m.\u001b[0m\u001b[0minfo\u001b[0m\u001b[0;34m(\u001b[0m\u001b[0;34m'job exception: %s'\u001b[0m \u001b[0;34m%\u001b[0m \u001b[0mstr\u001b[0m\u001b[0;34m(\u001b[0m\u001b[0me\u001b[0m\u001b[0;34m)\u001b[0m\u001b[0;34m)\u001b[0m\u001b[0;34m\u001b[0m\u001b[0m\n",
      "\u001b[0;32m/usr/local/lib/python3.5/dist-packages/hyperopt/base.py\u001b[0m in \u001b[0;36mevaluate\u001b[0;34m(self, config, ctrl, attach_attachments)\u001b[0m\n\u001b[1;32m    838\u001b[0m                 \u001b[0mmemo\u001b[0m\u001b[0;34m=\u001b[0m\u001b[0mmemo\u001b[0m\u001b[0;34m,\u001b[0m\u001b[0;34m\u001b[0m\u001b[0m\n\u001b[1;32m    839\u001b[0m                 print_node_on_error=self.rec_eval_print_node_on_error)\n\u001b[0;32m--> 840\u001b[0;31m             \u001b[0mrval\u001b[0m \u001b[0;34m=\u001b[0m \u001b[0mself\u001b[0m\u001b[0;34m.\u001b[0m\u001b[0mfn\u001b[0m\u001b[0;34m(\u001b[0m\u001b[0mpyll_rval\u001b[0m\u001b[0;34m)\u001b[0m\u001b[0;34m\u001b[0m\u001b[0m\n\u001b[0m\u001b[1;32m    841\u001b[0m \u001b[0;34m\u001b[0m\u001b[0m\n\u001b[1;32m    842\u001b[0m         \u001b[0;32mif\u001b[0m \u001b[0misinstance\u001b[0m\u001b[0;34m(\u001b[0m\u001b[0mrval\u001b[0m\u001b[0;34m,\u001b[0m \u001b[0;34m(\u001b[0m\u001b[0mfloat\u001b[0m\u001b[0;34m,\u001b[0m \u001b[0mint\u001b[0m\u001b[0;34m,\u001b[0m \u001b[0mnp\u001b[0m\u001b[0;34m.\u001b[0m\u001b[0mnumber\u001b[0m\u001b[0;34m)\u001b[0m\u001b[0;34m)\u001b[0m\u001b[0;34m:\u001b[0m\u001b[0;34m\u001b[0m\u001b[0m\n",
      "\u001b[0;32m<ipython-input-162-a02802cc4e85>\u001b[0m in \u001b[0;36mscore\u001b[0;34m(params)\u001b[0m\n\u001b[1;32m      9\u001b[0m     \u001b[0mdtrain\u001b[0m \u001b[0;34m=\u001b[0m \u001b[0mxgb\u001b[0m\u001b[0;34m.\u001b[0m\u001b[0mDMatrix\u001b[0m\u001b[0;34m(\u001b[0m\u001b[0mX_train\u001b[0m\u001b[0;34m,\u001b[0m \u001b[0mlabel\u001b[0m\u001b[0;34m=\u001b[0m\u001b[0my_train\u001b[0m\u001b[0;34m)\u001b[0m\u001b[0;34m\u001b[0m\u001b[0m\n\u001b[1;32m     10\u001b[0m     \u001b[0mdvalid\u001b[0m \u001b[0;34m=\u001b[0m \u001b[0mxgb\u001b[0m\u001b[0;34m.\u001b[0m\u001b[0mDMatrix\u001b[0m\u001b[0;34m(\u001b[0m\u001b[0mX_test\u001b[0m\u001b[0;34m,\u001b[0m \u001b[0mlabel\u001b[0m\u001b[0;34m=\u001b[0m\u001b[0my_test\u001b[0m\u001b[0;34m)\u001b[0m\u001b[0;34m\u001b[0m\u001b[0m\n\u001b[0;32m---> 11\u001b[0;31m     \u001b[0mmodel\u001b[0m \u001b[0;34m=\u001b[0m \u001b[0mxgb\u001b[0m\u001b[0;34m.\u001b[0m\u001b[0mtrain\u001b[0m\u001b[0;34m(\u001b[0m\u001b[0mparams\u001b[0m\u001b[0;34m,\u001b[0m \u001b[0mdtrain\u001b[0m\u001b[0;34m,\u001b[0m \u001b[0mnum_round\u001b[0m\u001b[0;34m)\u001b[0m\u001b[0;34m\u001b[0m\u001b[0m\n\u001b[0m\u001b[1;32m     12\u001b[0m     \u001b[0mpredictions\u001b[0m \u001b[0;34m=\u001b[0m \u001b[0mmodel\u001b[0m\u001b[0;34m.\u001b[0m\u001b[0mpredict\u001b[0m\u001b[0;34m(\u001b[0m\u001b[0mdvalid\u001b[0m\u001b[0;34m)\u001b[0m\u001b[0;34m\u001b[0m\u001b[0m\n\u001b[1;32m     13\u001b[0m     \u001b[0mscore\u001b[0m \u001b[0;34m=\u001b[0m \u001b[0mmean_squared_error\u001b[0m\u001b[0;34m(\u001b[0m\u001b[0my_test\u001b[0m\u001b[0;34m,\u001b[0m \u001b[0mpredictions\u001b[0m\u001b[0;34m)\u001b[0m\u001b[0;34m**\u001b[0m\u001b[0;36m0.5\u001b[0m\u001b[0;34m\u001b[0m\u001b[0m\n",
      "\u001b[0;32m/usr/local/lib/python3.5/dist-packages/xgboost-0.6-py3.5.egg/xgboost/training.py\u001b[0m in \u001b[0;36mtrain\u001b[0;34m(params, dtrain, num_boost_round, evals, obj, feval, maximize, early_stopping_rounds, evals_result, verbose_eval, xgb_model, callbacks, learning_rates)\u001b[0m\n\u001b[1;32m    202\u001b[0m                            \u001b[0mevals\u001b[0m\u001b[0;34m=\u001b[0m\u001b[0mevals\u001b[0m\u001b[0;34m,\u001b[0m\u001b[0;34m\u001b[0m\u001b[0m\n\u001b[1;32m    203\u001b[0m                            \u001b[0mobj\u001b[0m\u001b[0;34m=\u001b[0m\u001b[0mobj\u001b[0m\u001b[0;34m,\u001b[0m \u001b[0mfeval\u001b[0m\u001b[0;34m=\u001b[0m\u001b[0mfeval\u001b[0m\u001b[0;34m,\u001b[0m\u001b[0;34m\u001b[0m\u001b[0m\n\u001b[0;32m--> 204\u001b[0;31m                            xgb_model=xgb_model, callbacks=callbacks)\n\u001b[0m\u001b[1;32m    205\u001b[0m \u001b[0;34m\u001b[0m\u001b[0m\n\u001b[1;32m    206\u001b[0m \u001b[0;34m\u001b[0m\u001b[0m\n",
      "\u001b[0;32m/usr/local/lib/python3.5/dist-packages/xgboost-0.6-py3.5.egg/xgboost/training.py\u001b[0m in \u001b[0;36m_train_internal\u001b[0;34m(params, dtrain, num_boost_round, evals, obj, feval, xgb_model, callbacks)\u001b[0m\n\u001b[1;32m     72\u001b[0m         \u001b[0;31m# Skip the first update if it is a recovery step.\u001b[0m\u001b[0;34m\u001b[0m\u001b[0;34m\u001b[0m\u001b[0m\n\u001b[1;32m     73\u001b[0m         \u001b[0;32mif\u001b[0m \u001b[0mversion\u001b[0m \u001b[0;34m%\u001b[0m \u001b[0;36m2\u001b[0m \u001b[0;34m==\u001b[0m \u001b[0;36m0\u001b[0m\u001b[0;34m:\u001b[0m\u001b[0;34m\u001b[0m\u001b[0m\n\u001b[0;32m---> 74\u001b[0;31m             \u001b[0mbst\u001b[0m\u001b[0;34m.\u001b[0m\u001b[0mupdate\u001b[0m\u001b[0;34m(\u001b[0m\u001b[0mdtrain\u001b[0m\u001b[0;34m,\u001b[0m \u001b[0mi\u001b[0m\u001b[0;34m,\u001b[0m \u001b[0mobj\u001b[0m\u001b[0;34m)\u001b[0m\u001b[0;34m\u001b[0m\u001b[0m\n\u001b[0m\u001b[1;32m     75\u001b[0m             \u001b[0mbst\u001b[0m\u001b[0;34m.\u001b[0m\u001b[0msave_rabit_checkpoint\u001b[0m\u001b[0;34m(\u001b[0m\u001b[0;34m)\u001b[0m\u001b[0;34m\u001b[0m\u001b[0m\n\u001b[1;32m     76\u001b[0m             \u001b[0mversion\u001b[0m \u001b[0;34m+=\u001b[0m \u001b[0;36m1\u001b[0m\u001b[0;34m\u001b[0m\u001b[0m\n",
      "\u001b[0;32m/usr/local/lib/python3.5/dist-packages/xgboost-0.6-py3.5.egg/xgboost/core.py\u001b[0m in \u001b[0;36mupdate\u001b[0;34m(self, dtrain, iteration, fobj)\u001b[0m\n\u001b[1;32m    817\u001b[0m \u001b[0;34m\u001b[0m\u001b[0m\n\u001b[1;32m    818\u001b[0m         \u001b[0;32mif\u001b[0m \u001b[0mfobj\u001b[0m \u001b[0;32mis\u001b[0m \u001b[0;32mNone\u001b[0m\u001b[0;34m:\u001b[0m\u001b[0;34m\u001b[0m\u001b[0m\n\u001b[0;32m--> 819\u001b[0;31m             \u001b[0m_check_call\u001b[0m\u001b[0;34m(\u001b[0m\u001b[0m_LIB\u001b[0m\u001b[0;34m.\u001b[0m\u001b[0mXGBoosterUpdateOneIter\u001b[0m\u001b[0;34m(\u001b[0m\u001b[0mself\u001b[0m\u001b[0;34m.\u001b[0m\u001b[0mhandle\u001b[0m\u001b[0;34m,\u001b[0m \u001b[0miteration\u001b[0m\u001b[0;34m,\u001b[0m \u001b[0mdtrain\u001b[0m\u001b[0;34m.\u001b[0m\u001b[0mhandle\u001b[0m\u001b[0;34m)\u001b[0m\u001b[0;34m)\u001b[0m\u001b[0;34m\u001b[0m\u001b[0m\n\u001b[0m\u001b[1;32m    820\u001b[0m         \u001b[0;32melse\u001b[0m\u001b[0;34m:\u001b[0m\u001b[0;34m\u001b[0m\u001b[0m\n\u001b[1;32m    821\u001b[0m             \u001b[0mpred\u001b[0m \u001b[0;34m=\u001b[0m \u001b[0mself\u001b[0m\u001b[0;34m.\u001b[0m\u001b[0mpredict\u001b[0m\u001b[0;34m(\u001b[0m\u001b[0mdtrain\u001b[0m\u001b[0;34m)\u001b[0m\u001b[0;34m\u001b[0m\u001b[0m\n",
      "\u001b[0;31mKeyboardInterrupt\u001b[0m: "
     ]
    }
   ],
   "source": [
    "best2=100000\n",
    "count=0\n",
    "optimize()"
   ]
  },
  {
   "cell_type": "markdown",
   "metadata": {},
   "source": [
    "# Presentation"
   ]
  },
  {
   "cell_type": "markdown",
   "metadata": {},
   "source": [
    "### 1. Only the number of followers/posts"
   ]
  },
  {
   "cell_type": "markdown",
   "metadata": {},
   "source": [
    "### 2. Add the avgLikes of a user"
   ]
  },
  {
   "cell_type": "code",
   "execution_count": null,
   "metadata": {
    "collapsed": true
   },
   "outputs": [],
   "source": [
    "#### 3. "
   ]
  }
 ],
 "metadata": {
  "kernelspec": {
   "display_name": "Python 3",
   "language": "python",
   "name": "python3"
  },
  "language_info": {
   "codemirror_mode": {
    "name": "ipython",
    "version": 3
   },
   "file_extension": ".py",
   "mimetype": "text/x-python",
   "name": "python",
   "nbconvert_exporter": "python",
   "pygments_lexer": "ipython3",
   "version": "3.5.2"
  }
 },
 "nbformat": 4,
 "nbformat_minor": 2
}
